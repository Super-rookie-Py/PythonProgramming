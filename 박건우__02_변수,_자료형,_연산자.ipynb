{
  "nbformat": 4,
  "nbformat_minor": 0,
  "metadata": {
    "colab": {
      "name": "박건우 - _02 변수, 자료형, 연산자.ipynb",
      "provenance": [],
      "collapsed_sections": [],
      "toc_visible": true,
      "include_colab_link": true
    },
    "kernelspec": {
      "name": "python3",
      "display_name": "Python 3"
    }
  },
  "cells": [
    {
      "cell_type": "markdown",
      "metadata": {
        "id": "view-in-github",
        "colab_type": "text"
      },
      "source": [
        "<a href=\"https://colab.research.google.com/github/Super-rookie-Py/PythonProgramming/blob/master/%EB%B0%95%EA%B1%B4%EC%9A%B0__02_%EB%B3%80%EC%88%98%2C_%EC%9E%90%EB%A3%8C%ED%98%95%2C_%EC%97%B0%EC%82%B0%EC%9E%90.ipynb\" target=\"_parent\"><img src=\"https://colab.research.google.com/assets/colab-badge.svg\" alt=\"Open In Colab\"/></a>"
      ]
    },
    {
      "cell_type": "markdown",
      "metadata": {
        "id": "6XGDdKnJyGJF",
        "colab_type": "text"
      },
      "source": [
        "# 변수, 자료형, 연산자\n",
        "- keonwoo Park 2020/08/19\n",
        "\n",
        "\n"
      ]
    },
    {
      "cell_type": "markdown",
      "metadata": {
        "id": "HAstuUfPCTnB",
        "colab_type": "text"
      },
      "source": [
        "\n",
        "\n",
        "---\n",
        "\n"
      ]
    },
    {
      "cell_type": "markdown",
      "metadata": {
        "id": "90qvtJp_yMg4",
        "colab_type": "text"
      },
      "source": [
        "\n",
        "## 변수(Variables)"
      ]
    },
    {
      "cell_type": "code",
      "metadata": {
        "id": "Wnq3OFyHy3FV",
        "colab_type": "code",
        "colab": {
          "base_uri": "https://localhost:8080/",
          "height": 53
        },
        "outputId": "555162be-7c7b-4f3a-e516-56abd0f7272f"
      },
      "source": [
        "name = \"Keonwoo\"\n",
        "print(name)\n",
        "num = 123\n",
        "print(num)"
      ],
      "execution_count": null,
      "outputs": [
        {
          "output_type": "stream",
          "text": [
            "Keonwoo\n",
            "123\n"
          ],
          "name": "stdout"
        }
      ]
    },
    {
      "cell_type": "markdown",
      "metadata": {
        "id": "RJfm_0kbyZih",
        "colab_type": "text"
      },
      "source": [
        "### 변수명 규칙\n"
      ]
    },
    {
      "cell_type": "code",
      "metadata": {
        "id": "SPyXej-mys0A",
        "colab_type": "code",
        "colab": {
          "base_uri": "https://localhost:8080/",
          "height": 71
        },
        "outputId": "0e51b966-4b6a-4cb0-9813-fb513ad35d50"
      },
      "source": [
        "abc = \"abc\"\n",
        "abc_123 = 123\n",
        "Abc_123 = 1234\n",
        "print(abc)\n",
        "print(abc_123)\n",
        "print(Abc_123)"
      ],
      "execution_count": null,
      "outputs": [
        {
          "output_type": "stream",
          "text": [
            "abc\n",
            "123\n",
            "1234\n"
          ],
          "name": "stdout"
        }
      ]
    },
    {
      "cell_type": "markdown",
      "metadata": {
        "id": "IzVR_OF3CV7l",
        "colab_type": "text"
      },
      "source": [
        "\n",
        "\n",
        "---\n",
        "\n"
      ]
    },
    {
      "cell_type": "markdown",
      "metadata": {
        "id": "UnmfTSSR7gI8",
        "colab_type": "text"
      },
      "source": [
        "## 자료형(Data Types)\n",
        "\n"
      ]
    },
    {
      "cell_type": "markdown",
      "metadata": {
        "id": "E6w1S0AG7093",
        "colab_type": "text"
      },
      "source": [
        "### 불리언형 자료형(Boolean Type)\n",
        "\n",
        "* 불리언은 `True`와 `False` 값으로만 표현할 때 사용하는 자료형\n",
        "* 예제 코드에서 변수 `b`에 `True` 값을 넣으면 불리언 자료형으로 결정\n",
        "* 자료형을 반환하는 내장함수 `type()` 함수를 이용하여 자료형을 확인하면 `bool`로 반환된 결과를 볼 수 있음"
      ]
    },
    {
      "cell_type": "code",
      "metadata": {
        "id": "VEmJO0Hl7uSL",
        "colab_type": "code",
        "colab": {
          "base_uri": "https://localhost:8080/",
          "height": 53
        },
        "outputId": "fd51f616-37c7-4521-cbc1-7bc3b0d8ae73"
      },
      "source": [
        "b = True\n",
        "print(b)\n",
        "print(type(b))"
      ],
      "execution_count": null,
      "outputs": [
        {
          "output_type": "stream",
          "text": [
            "True\n",
            "<class 'bool'>\n"
          ],
          "name": "stdout"
        }
      ]
    },
    {
      "cell_type": "markdown",
      "metadata": {
        "id": "zEQ7zJg8aafd",
        "colab_type": "text"
      },
      "source": [
        "### 정수형 자료형(Integer Type)"
      ]
    },
    {
      "cell_type": "markdown",
      "metadata": {
        "id": "QyQdYV_If3kQ",
        "colab_type": "text"
      },
      "source": [
        "#### 10진수(Decimal) \n",
        "\n",
        "* 10진수는 일반적인 숫자 표현을 그대로 사용\n",
        "* 변수 `i`에 10진수로 숫자 10을 값으로 넣고, `type()` 함수를 통해 자료형을 확인하기\n"
      ]
    },
    {
      "cell_type": "code",
      "metadata": {
        "id": "Mt5AV2bR8NFr",
        "colab_type": "code",
        "colab": {
          "base_uri": "https://localhost:8080/",
          "height": 53
        },
        "outputId": "5a80dcc1-8015-400f-8f1b-1c5c6966cb81"
      },
      "source": [
        "i = 10\n",
        "print(i)\n",
        "print(type(i))"
      ],
      "execution_count": null,
      "outputs": [
        {
          "output_type": "stream",
          "text": [
            "10\n",
            "<class 'int'>\n"
          ],
          "name": "stdout"
        }
      ]
    },
    {
      "cell_type": "markdown",
      "metadata": {
        "id": "oXUZbCF_z4ks",
        "colab_type": "text"
      },
      "source": [
        "#### 2진수(Binary)\n",
        "\n",
        "* 2진수는 앞에 `0b`를 붙여서 표현\n",
        "* 변수 `b`에 2진수 표현으로 `0b010`을 넣고, `type()` 함수를 통해 자료형을 확인하기"
      ]
    },
    {
      "cell_type": "code",
      "metadata": {
        "id": "xxmW8Xp0u01Q",
        "colab_type": "code",
        "colab": {
          "base_uri": "https://localhost:8080/",
          "height": 53
        },
        "outputId": "54e97c94-7547-4be5-896b-26c2edc0c6ac"
      },
      "source": [
        "b = 0b010\n",
        "print(b)\n",
        "print(type(b))"
      ],
      "execution_count": null,
      "outputs": [
        {
          "output_type": "stream",
          "text": [
            "2\n",
            "<class 'int'>\n"
          ],
          "name": "stdout"
        }
      ]
    },
    {
      "cell_type": "markdown",
      "metadata": {
        "id": "uWuYvhlMz-pL",
        "colab_type": "text"
      },
      "source": [
        "#### 8진수(Octal)\n",
        "\n",
        "* 8진수는 앞에 `0o`를 붙여서 표현\n",
        "* 변수 `o`에 8진수 표현으로 `0o130`을 넣고 확인하기"
      ]
    },
    {
      "cell_type": "code",
      "metadata": {
        "id": "uS9NsK2ZYU8l",
        "colab_type": "code",
        "colab": {
          "base_uri": "https://localhost:8080/",
          "height": 53
        },
        "outputId": "bd2e6527-e7dc-41b4-aebd-d6706becea28"
      },
      "source": [
        "o = 0o130\n",
        "print(o)\n",
        "print(type(o))"
      ],
      "execution_count": null,
      "outputs": [
        {
          "output_type": "stream",
          "text": [
            "88\n",
            "<class 'int'>\n"
          ],
          "name": "stdout"
        }
      ]
    },
    {
      "cell_type": "markdown",
      "metadata": {
        "id": "ObGeQFIA0CfR",
        "colab_type": "text"
      },
      "source": [
        "#### 16진수(Hexadecimal)\n",
        "\n",
        "* 16진수은 앞에 `0x`를 붙여서 표현\n",
        "* 변수 `h`에 16진수 표현으로 `0xABC`를 넣고 확인하기\n",
        "* 16진수는 10진수와 달리 10부터 A에서 F까지 알파벳을 사용하여 표현"
      ]
    },
    {
      "cell_type": "code",
      "metadata": {
        "id": "t6AMAPRLYVHG",
        "colab_type": "code",
        "colab": {
          "base_uri": "https://localhost:8080/",
          "height": 53
        },
        "outputId": "b60987dd-72da-452f-a387-751e31c54c44"
      },
      "source": [
        "h = 0xABC\n",
        "print(h)\n",
        "print(type(h))"
      ],
      "execution_count": null,
      "outputs": [
        {
          "output_type": "stream",
          "text": [
            "2748\n",
            "<class 'int'>\n"
          ],
          "name": "stdout"
        }
      ]
    },
    {
      "cell_type": "markdown",
      "metadata": {
        "id": "ExS5VLXYgC0K",
        "colab_type": "text"
      },
      "source": [
        "### 실수형 자료형(Floating-Point Type)\n",
        "\n",
        "* 실수형 자료형 표현은 고정소수점과 부동소수점으로 구분"
      ]
    },
    {
      "cell_type": "markdown",
      "metadata": {
        "id": "o9wEy__Akh68",
        "colab_type": "text"
      },
      "source": [
        "#### 고정소수점(Fixed-Point)\n",
        "\n",
        "* 기본적으로 고정된 자리수의 소수를 사용하는 고정소수점 방식\n",
        "* 실수형 변수 `f`에 소수점이 포함된 `12.34` 값을 넣고 확인하기\n",
        "* `type(f)`를 통해서 결과를 확인해보면 실수형(float) 자료형으로 출력\n",
        "* 파이썬에서는 소수에서 정수부가 0인 경우에는 제외해서 표현 가능\n",
        "* 코드에서 값 `.123`은 `0.123`을 의미"
      ]
    },
    {
      "cell_type": "code",
      "metadata": {
        "id": "zRx3Lg_soF-d",
        "colab_type": "code",
        "colab": {
          "base_uri": "https://localhost:8080/",
          "height": 53
        },
        "outputId": "ad42c5b9-b86c-4b5b-aea4-1001106dd11b"
      },
      "source": [
        "f = 12.34\n",
        "print(f)\n",
        "print(type(f))"
      ],
      "execution_count": null,
      "outputs": [
        {
          "output_type": "stream",
          "text": [
            "12.34\n",
            "<class 'float'>\n"
          ],
          "name": "stdout"
        }
      ]
    },
    {
      "cell_type": "code",
      "metadata": {
        "id": "YLdTH0EtgupN",
        "colab_type": "code",
        "colab": {
          "base_uri": "https://localhost:8080/",
          "height": 35
        },
        "outputId": "08eede92-6a2d-4d7e-a7c5-6e4f5f9f3d99"
      },
      "source": [
        "f = .123\n",
        "print(f)"
      ],
      "execution_count": null,
      "outputs": [
        {
          "output_type": "stream",
          "text": [
            "0.123\n"
          ],
          "name": "stdout"
        }
      ]
    },
    {
      "cell_type": "markdown",
      "metadata": {
        "id": "NSsefZL8hx83",
        "colab_type": "text"
      },
      "source": [
        "#### 부동소수점(Floating-Point)\n",
        "\n",
        "* 컴퓨터에서 소수점의 위치가 고정되지 않고 넓은 범위의 값을 근사하여 표현하는 부동소수점 방식이 있음\n",
        "* 부동소수점에 대한 개념을 모르는 경우에는 [링크](https://ko.wikipedia.org/wiki/%EB%B6%80%EB%8F%99%EC%86%8C%EC%88%98%EC%A0%90)를 참고\n",
        "* 파이썬에서는 e 기호를 이용하여 지수에 대한 표현을 사용\n",
        "* `e` 변수에 할당한 `1234e-2` 라는 표현은 $1234 \\times 10^{-2}$를 의미하고 실제 결과 값은 12.34\n",
        "* `type(e)` 함수를 통해 타입을 확인해보면 실수형\n",
        "* 마찬가지로 `123e-3`은 $123 \\times 10^{-3}$를 의미하며 결과는 0.123"
      ]
    },
    {
      "cell_type": "code",
      "metadata": {
        "id": "VflCID3tgVrO",
        "colab_type": "code",
        "colab": {
          "base_uri": "https://localhost:8080/",
          "height": 53
        },
        "outputId": "9ece4d41-eaa2-44a1-c6b7-904cec54eb24"
      },
      "source": [
        "e = 1234e-2\n",
        "print(e)\n",
        "print(type(e))"
      ],
      "execution_count": null,
      "outputs": [
        {
          "output_type": "stream",
          "text": [
            "12.34\n",
            "<class 'float'>\n"
          ],
          "name": "stdout"
        }
      ]
    },
    {
      "cell_type": "code",
      "metadata": {
        "id": "CmJN7I6EgVxT",
        "colab_type": "code",
        "colab": {
          "base_uri": "https://localhost:8080/",
          "height": 35
        },
        "outputId": "b13dc722-4537-45e9-8cfc-ab9e15801acb"
      },
      "source": [
        "e = 123e-3\n",
        "print(e)"
      ],
      "execution_count": null,
      "outputs": [
        {
          "output_type": "stream",
          "text": [
            "0.123\n"
          ],
          "name": "stdout"
        }
      ]
    },
    {
      "cell_type": "markdown",
      "metadata": {
        "id": "B6TXm4YJoGFF",
        "colab_type": "text"
      },
      "source": [
        "###복소수형 자료형(Complex Type)\n",
        "\n",
        "* 복소수(complex number)는 임의의 실수 $a$, $b$에 대해 $a + bi$의 꼴로 나타내는 수를 의미\n",
        "* 여기서 $a$는 실수, $b$는 허수 부분\n",
        "* i는 제곱하여 -1이 되는 수로 허수(imaginary number) 단위라고 함\n",
        "* 복소수에 대한 개념을 모르는 경우에는 [링크](https://ko.wikipedia.org/wiki/%EB%B3%B5%EC%86%8C%EC%88%98) 참고\n",
        "* 파이썬에서는 i 대신에 j 또는 J로 표현\n",
        "* $1 + 23j$와 같이 복소수로 표현하기\n",
        "* `print()` 함수를 이용해 출력한 결과 `(1+23j)`\n",
        "* 실수부는 `c.real`로 허수부는 `c.imag`로 출력\n",
        "* 복소수의 경우에는 `type()` 함수로 타입을 살펴보면 결과는 'complex'"
      ]
    },
    {
      "cell_type": "code",
      "metadata": {
        "id": "0I7Dr_S1sp_a",
        "colab_type": "code",
        "colab": {
          "base_uri": "https://localhost:8080/",
          "height": 89
        },
        "outputId": "1ad0fc19-fc39-48ce-8f50-4da7a3bbd317"
      },
      "source": [
        "c = 1 + 23j\n",
        "print(c)\n",
        "print(c.real)\n",
        "print(c.imag)\n",
        "print(type(c))"
      ],
      "execution_count": null,
      "outputs": [
        {
          "output_type": "stream",
          "text": [
            "(1+23j)\n",
            "1.0\n",
            "23.0\n",
            "<class 'complex'>\n"
          ],
          "name": "stdout"
        }
      ]
    },
    {
      "cell_type": "markdown",
      "metadata": {
        "id": "-KDyVNOYErfS",
        "colab_type": "text"
      },
      "source": [
        "### 문자열 자료형(String Type)\n",
        "\n",
        "* 문자열(string)은 문자들의 집합을 의미\n",
        "* 문자열을 저장하는 변수를 문자열 변수라고 함"
      ]
    },
    {
      "cell_type": "code",
      "metadata": {
        "id": "vMbIM94dEq85",
        "colab_type": "code",
        "colab": {
          "base_uri": "https://localhost:8080/",
          "height": 53
        },
        "outputId": "9f347af5-00fc-492a-d5b9-2dfd683448f3"
      },
      "source": [
        "string = \"Keonwoo\"\n",
        "print(string)\n",
        "print(type(string))"
      ],
      "execution_count": null,
      "outputs": [
        {
          "output_type": "stream",
          "text": [
            "Keonwoo\n",
            "<class 'str'>\n"
          ],
          "name": "stdout"
        }
      ]
    },
    {
      "cell_type": "markdown",
      "metadata": {
        "id": "mCkLTLt_GkqB",
        "colab_type": "text"
      },
      "source": [
        "### 리스트 자료형(List Type)\n",
        "\n",
        "* 리스트(list)는 여러 값을 하나의 변수에 담을 수 있는 자료형\n",
        "* 대괄호 안에 여러 값을 쉽표를 구분자로 표현하여 리스트 변수 생성\n",
        "* 간단하게 리스트 생성과 출력을 위해 변수 `l` 안에 값 1, 2, 3을 넣어보자\n",
        "* 자료형을 출력해보면 'list'라는 결과 값을 가지는 것을 알 수 있음"
      ]
    },
    {
      "cell_type": "code",
      "metadata": {
        "id": "Y_KxRefG_AlV",
        "colab_type": "code",
        "colab": {
          "base_uri": "https://localhost:8080/",
          "height": 53
        },
        "outputId": "274f1bb1-1ec3-480d-8840-4ec051b84ce5"
      },
      "source": [
        "l = [i for i in range(1,4)]\n",
        "print(l)\n",
        "print(type(l))"
      ],
      "execution_count": null,
      "outputs": [
        {
          "output_type": "stream",
          "text": [
            "[1, 2, 3]\n",
            "<class 'list'>\n"
          ],
          "name": "stdout"
        }
      ]
    },
    {
      "cell_type": "markdown",
      "metadata": {
        "id": "YyMEboAsJA_f",
        "colab_type": "text"
      },
      "source": [
        "* 리스트 자료형은 같은 자료형이 아니라 다른 자료형을 가지는 값들도 포함하여 구성 가능\n",
        "* 숫자와 문자열이 포함된 리스트 변수 사용하기"
      ]
    },
    {
      "cell_type": "code",
      "metadata": {
        "id": "_RxMxJkRILKq",
        "colab_type": "code",
        "colab": {
          "base_uri": "https://localhost:8080/",
          "height": 53
        },
        "outputId": "6095c2c1-bee8-4830-eb8f-70d8aeec190a"
      },
      "source": [
        "l = [1,'One',2,'Two']\n",
        "print(l)\n",
        "print(type(l))"
      ],
      "execution_count": null,
      "outputs": [
        {
          "output_type": "stream",
          "text": [
            "[1, 'One', 2, 'Two']\n",
            "<class 'list'>\n"
          ],
          "name": "stdout"
        }
      ]
    },
    {
      "cell_type": "markdown",
      "metadata": {
        "id": "NrO0CmiFJTet",
        "colab_type": "text"
      },
      "source": [
        "### 튜플 자료형(Tuple Type)\n",
        "\n",
        "* 튜플 자료형은 리스트 자료형과 유사하지만 생성, 삭제, 수정이 불가\n",
        "* 튜플은 괄호 안에 여러 값을 쉼표로 구분하여 사용\n",
        "* 변수 `t` 안에 값 1, 2, 3을 저장하고, 변수와 변수의 타입을 출력하기"
      ]
    },
    {
      "cell_type": "code",
      "metadata": {
        "id": "_Wm3Q7k_JPaX",
        "colab_type": "code",
        "colab": {
          "base_uri": "https://localhost:8080/",
          "height": 53
        },
        "outputId": "ca0b9ca8-beae-4fcd-ccd9-9bcae4f44933"
      },
      "source": [
        "t = (1, 2, 3)\n",
        "print(t)\n",
        "print(type(t))"
      ],
      "execution_count": null,
      "outputs": [
        {
          "output_type": "stream",
          "text": [
            "(1, 2, 3)\n",
            "<class 'tuple'>\n"
          ],
          "name": "stdout"
        }
      ]
    },
    {
      "cell_type": "markdown",
      "metadata": {
        "id": "xQJGvN1CVGST",
        "colab_type": "text"
      },
      "source": [
        "### 범위 자료형(Range Type)\n",
        "\n",
        "* 불변한 숫자 시퀀스 자료형"
      ]
    },
    {
      "cell_type": "code",
      "metadata": {
        "id": "efGjqZz7VGqz",
        "colab_type": "code",
        "colab": {
          "base_uri": "https://localhost:8080/",
          "height": 53
        },
        "outputId": "7d93022b-1514-44a3-9a38-cba6f7875f88"
      },
      "source": [
        "r = range(10)\n",
        "print(r)\n",
        "print(type(r))"
      ],
      "execution_count": null,
      "outputs": [
        {
          "output_type": "stream",
          "text": [
            "range(0, 10)\n",
            "<class 'range'>\n"
          ],
          "name": "stdout"
        }
      ]
    },
    {
      "cell_type": "markdown",
      "metadata": {
        "id": "cjPLDAii4Oj7",
        "colab_type": "text"
      },
      "source": [
        "### 집합 자료형(Set Type)\n",
        "\n",
        "* 집합 자료형은 중복과 순서가 없다는 특징을 가지며 집합 처리를 쉽게할 수 있음\n",
        "* 집합은 중괄호를 이용해서 값을 쉼표로 구분하여 넣음\n",
        "* 변수 `s` 안에 값 2, 3, 1을 넣고 변수 `s`의 값과 타입을 출력한 예제\n",
        "* 변경 불가능한 집합 자료형으로 fronzenset이 있음"
      ]
    },
    {
      "cell_type": "code",
      "metadata": {
        "id": "ZvEn8hlvKDaE",
        "colab_type": "code",
        "colab": {
          "base_uri": "https://localhost:8080/",
          "height": 89
        },
        "outputId": "92a82d9c-7813-4d58-aac2-063a4d026bf8"
      },
      "source": [
        "s = {2, 3, 1}\n",
        "print(s)\n",
        "print(type(s))\n",
        "\n",
        "fs = frozenset(s)\n",
        "print(fs)\n",
        "print(type(fs))"
      ],
      "execution_count": null,
      "outputs": [
        {
          "output_type": "stream",
          "text": [
            "{1, 2, 3}\n",
            "<class 'set'>\n",
            "frozenset({1, 2, 3})\n",
            "<class 'frozenset'>\n"
          ],
          "name": "stdout"
        }
      ]
    },
    {
      "cell_type": "markdown",
      "metadata": {
        "id": "9O8GBpoTa1HO",
        "colab_type": "text"
      },
      "source": [
        "### 딕셔너리 자료형(Dictionary Type)\n",
        "\n",
        "* 딕셔너리 자료형은 다른 자료형과 달리 키(key)와 값(value)를 한 쌍으로 갖는 자료형\n",
        "* 변수 `d`에 키와 값을 구분자 `:`를 이용해서 쌍으로 묶어서 `1: 'One', 2: 'Two'` 형태로 넣을 수 있음"
      ]
    },
    {
      "cell_type": "code",
      "metadata": {
        "id": "9R-eJj_ja1oD",
        "colab_type": "code",
        "colab": {
          "base_uri": "https://localhost:8080/",
          "height": 53
        },
        "outputId": "fc760123-5aef-4380-af22-8b653fadd35c"
      },
      "source": [
        "dic = {1: \"One\", 2: \"Two\", 3:\"Three\"}\n",
        "print(dic)\n",
        "print(type(dic))"
      ],
      "execution_count": null,
      "outputs": [
        {
          "output_type": "stream",
          "text": [
            "{1: 'One', 2: 'Two', 3: 'Three'}\n",
            "<class 'dict'>\n"
          ],
          "name": "stdout"
        }
      ]
    },
    {
      "cell_type": "markdown",
      "metadata": {
        "id": "rbjYd180xOgd",
        "colab_type": "text"
      },
      "source": [
        "### 바이트 시퀀스형(Byte Sequence Type)\n",
        "\n",
        "* 바이트 자료형은 1바이트 단위의 값을 연속적으로 저장하는 시퀀스 자료형\n",
        "* 1바이트는 8비트에 해당하며, 정수값 0 ~ 255(0x00~0xFF) 사용\n",
        "* 이진 데이터로 사용되어지거나 1바이트 문자로 고정을 위해 사용\n",
        "* 유니코드가 아닌 문자열을 사용하는 것과 유사\n",
        "* 바이트 자료형의 시퀀스 형태로 `bytearray` 자료형 사용\n",
        "* 바이트 자료형의 메모리 값의 표현으로 `memoryview` 자료형 사용\n"
      ]
    },
    {
      "cell_type": "code",
      "metadata": {
        "id": "N364DWyAuinp",
        "colab_type": "code",
        "colab": {
          "base_uri": "https://localhost:8080/",
          "height": 161
        },
        "outputId": "bab80004-3092-4583-9162-97192229536d"
      },
      "source": [
        "byte = b'\\x00'\n",
        "print(byte)\n",
        "print(type(byte))\n",
        "\n",
        "byte = b\"Hello\"\n",
        "print(byte)\n",
        "print(type(byte))\n",
        "\n",
        "ba = bytearray(byte)\n",
        "print(ba)\n",
        "print(type(ba))\n",
        "\n",
        "mv = memoryview(ba)\n",
        "print(mv)\n",
        "print(type(mv))"
      ],
      "execution_count": null,
      "outputs": [
        {
          "output_type": "stream",
          "text": [
            "b'\\x00'\n",
            "<class 'bytes'>\n",
            "b'Hello'\n",
            "<class 'bytes'>\n",
            "bytearray(b'Hello')\n",
            "<class 'bytearray'>\n",
            "<memory at 0x7fdad4e2adc8>\n",
            "<class 'memoryview'>\n"
          ],
          "name": "stdout"
        }
      ]
    },
    {
      "cell_type": "markdown",
      "metadata": {
        "id": "aYEHLAuDCZcj",
        "colab_type": "text"
      },
      "source": [
        "\n",
        "\n",
        "---\n",
        "\n"
      ]
    },
    {
      "cell_type": "markdown",
      "metadata": {
        "id": "RsSgmmjFXFAS",
        "colab_type": "text"
      },
      "source": [
        "## 자료형 변환"
      ]
    },
    {
      "cell_type": "markdown",
      "metadata": {
        "id": "-FxX0V7IUgl9",
        "colab_type": "text"
      },
      "source": [
        "#### bool()\n",
        "\n",
        "* `bool()` 함수는 다양한 자료형을 불리언형으로 변환\n",
        "* `0`이나 `False` 값이 아닌 경우는 모두 True로 변환"
      ]
    },
    {
      "cell_type": "code",
      "metadata": {
        "id": "levVjrt-UPGE",
        "colab_type": "code",
        "colab": {
          "base_uri": "https://localhost:8080/",
          "height": 197
        },
        "outputId": "b1d17f38-5794-46c1-e2fd-4f4c5d2a003f"
      },
      "source": [
        "print(bool(True))\n",
        "print(bool(False))\n",
        "print(bool(10))\n",
        "print(bool(0b010))\n",
        "print(bool(0o130))\n",
        "print(bool(0xABC))\n",
        "print(bool(12.34))\n",
        "print(bool(1234e-2))\n",
        "print(bool('10'))\n",
        "print(bool(0))"
      ],
      "execution_count": null,
      "outputs": [
        {
          "output_type": "stream",
          "text": [
            "True\n",
            "False\n",
            "True\n",
            "True\n",
            "True\n",
            "True\n",
            "True\n",
            "True\n",
            "True\n",
            "False\n"
          ],
          "name": "stdout"
        }
      ]
    },
    {
      "cell_type": "markdown",
      "metadata": {
        "id": "KpA7BboIHjok",
        "colab_type": "text"
      },
      "source": [
        "### int()\n",
        "\n",
        "* `int()` 함수는 다양한 자료형을 정수형으로 변환\n",
        "* 복소수형은 정수로 `int()` 함수를 통해 변환이 되지 않음\n",
        "* 불리언 형은 값으로 `True`와 `False`만 가지고 `int()` 함수를 통해 정수로 변환되면 `True`는 1로 `False`는 0으로 변환\n",
        "* 정수값 10과 2진수 `0b010`, 8진수 `0o130`, 16진수 `0xABC`는 모두 같은 정수형이라서 그대로 값을 유지하고, 10진수 형태로 변환되어 출력\n",
        "* 실수형을 정수형으로 변환하는 경우에는 고정소수점이든 부동소수점이든지 소수점 이하를 제외하고 변환, 예를 들어, 12.34는 12로 소수점을 제외하고 변환\n",
        "* 문자형은 기본적으로는 문자열을 10진수 변환, 예를 들어, `int('10')`은 기본 10진수로 문자열 '10'을 정수형 10으로 변환\n",
        "* 2진수, 8진수, 16진수 등의 다른 진수로 된 문자열일 경우에는 몇 진수에 해당되는지를 입력해주면 그에 맞추어 변환\n",
        "* `int('010', 2)`와 같이 문자열 '010'을 2진수라고 알려주고 변환하기 위해서 2라고 입력하고, 8진수과 16진수도 마찬가지"
      ]
    },
    {
      "cell_type": "code",
      "metadata": {
        "id": "aFXT-t5qWRvX",
        "colab_type": "code",
        "colab": {
          "base_uri": "https://localhost:8080/",
          "height": 251
        },
        "outputId": "95ad5b4a-2995-472b-a027-c8acbd40e2af"
      },
      "source": [
        "print(int(True))\n",
        "print(int(False))\n",
        "print(int(10))\n",
        "print(int(0b010))\n",
        "print(int(0o130))\n",
        "print(int(0xABC))\n",
        "print(int(12.34))\n",
        "print(int(1234e-2))\n",
        "print(int('10'))\n",
        "print(int(0))\n",
        "print(int('010',2))\n",
        "print(int('130',8))\n",
        "print(int('ABC',16))"
      ],
      "execution_count": null,
      "outputs": [
        {
          "output_type": "stream",
          "text": [
            "1\n",
            "0\n",
            "10\n",
            "2\n",
            "88\n",
            "2748\n",
            "12\n",
            "12\n",
            "10\n",
            "0\n",
            "2\n",
            "88\n",
            "2748\n"
          ],
          "name": "stdout"
        }
      ]
    },
    {
      "cell_type": "markdown",
      "metadata": {
        "id": "l1DTbBym3gb_",
        "colab_type": "text"
      },
      "source": [
        "### float()\n",
        "\n",
        "* `float()` 함수는 자료형을 실수형으로 변환\n",
        "* 복소수형은 변환이 되지 않고, 문자열 형태의 2진수, 8진수, 16진수도 변환이 되지 않음\n",
        "* `int()` 함수를 사용한 결과와 유사하지만, 소수점 이하 값이 포함\n",
        "* 만약 소수점 이하 값이 없다면 .0으로 변환되고, 소수점 이하 값이 있는 실수형은 동일한 값으로 변환"
      ]
    },
    {
      "cell_type": "code",
      "metadata": {
        "id": "xKGdUbHXGnrt",
        "colab_type": "code",
        "colab": {
          "base_uri": "https://localhost:8080/",
          "height": 197
        },
        "outputId": "b34d3389-272e-496c-915d-e8bbcae753cf"
      },
      "source": [
        "print(float(True))\n",
        "print(float(False))\n",
        "print(float(10))\n",
        "print(float(0b010))\n",
        "print(float(0o130))\n",
        "print(float(0xABC))\n",
        "print(float(12.34))\n",
        "print(float(1234e-2))\n",
        "print(float('10'))\n",
        "print(float(0))"
      ],
      "execution_count": null,
      "outputs": [
        {
          "output_type": "stream",
          "text": [
            "1.0\n",
            "0.0\n",
            "10.0\n",
            "2.0\n",
            "88.0\n",
            "2748.0\n",
            "12.34\n",
            "12.34\n",
            "10.0\n",
            "0.0\n"
          ],
          "name": "stdout"
        }
      ]
    },
    {
      "cell_type": "markdown",
      "metadata": {
        "id": "C4E7PyVIfjGp",
        "colab_type": "text"
      },
      "source": [
        "### complex()\n",
        "\n",
        "* `complex()` 함수는 자료형을 복소수형으로 변환\n",
        "* 불리언형, 정수형, 실수형, 복소수형, 문자형 모두 복소수형으로 변환 가능\n",
        "* 허수가 있는 복소수형을 제외하고 다른 자료형은 허수 부분이 없어서 `OJ`로 변환"
      ]
    },
    {
      "cell_type": "code",
      "metadata": {
        "id": "2VkxG3V17t0Q",
        "colab_type": "code",
        "colab": {
          "base_uri": "https://localhost:8080/",
          "height": 215
        },
        "outputId": "90a5462e-c5fe-42ff-8190-602166f6630c"
      },
      "source": [
        "print(complex(True))\n",
        "print(complex(False))\n",
        "print(complex(10))\n",
        "print(complex(0b010))\n",
        "print(complex(0o130))\n",
        "print(complex(0xABC))\n",
        "print(complex(12.34))\n",
        "print(complex(1234e-2))\n",
        "print(complex('10'))\n",
        "print(complex(0))\n",
        "print(complex(1 + 23j))"
      ],
      "execution_count": null,
      "outputs": [
        {
          "output_type": "stream",
          "text": [
            "(1+0j)\n",
            "0j\n",
            "(10+0j)\n",
            "(2+0j)\n",
            "(88+0j)\n",
            "(2748+0j)\n",
            "(12.34+0j)\n",
            "(12.34+0j)\n",
            "(10+0j)\n",
            "0j\n",
            "(1+23j)\n"
          ],
          "name": "stdout"
        }
      ]
    },
    {
      "cell_type": "markdown",
      "metadata": {
        "id": "4B6kUxK5dqaT",
        "colab_type": "text"
      },
      "source": [
        "### str()\n",
        "\n",
        "* `str()` 함수는 파이썬의 모든 자료형을 문자열로 변환\n",
        "* 자료형의 값을 그대로 문자열 형태로 변환\n"
      ]
    },
    {
      "cell_type": "code",
      "metadata": {
        "id": "AWnqw88hfotE",
        "colab_type": "code",
        "colab": {
          "base_uri": "https://localhost:8080/",
          "height": 287
        },
        "outputId": "e6f00d56-2b0e-40ae-8f59-c672853858f8"
      },
      "source": [
        "print(str(True))\n",
        "print(str(False))\n",
        "print(str(10))\n",
        "print(str(0b010))\n",
        "print(str(0o130))\n",
        "print(str(0xABC))\n",
        "print(str(12.34))\n",
        "print(str(1234e-2))\n",
        "print(str('10'))\n",
        "print(str(0))\n",
        "print(str(1 + 23j))\n",
        "print(str([1, 2, 3]))\n",
        "print(str((1, 2, 3)))\n",
        "print(str({2, 3, 1}))\n",
        "print(str({1: 'one', 2:' two'}))"
      ],
      "execution_count": null,
      "outputs": [
        {
          "output_type": "stream",
          "text": [
            "True\n",
            "False\n",
            "10\n",
            "2\n",
            "88\n",
            "2748\n",
            "12.34\n",
            "12.34\n",
            "10\n",
            "0\n",
            "(1+23j)\n",
            "[1, 2, 3]\n",
            "(1, 2, 3)\n",
            "{1, 2, 3}\n",
            "{1: 'one', 2: ' two'}\n"
          ],
          "name": "stdout"
        }
      ]
    },
    {
      "cell_type": "markdown",
      "metadata": {
        "id": "XU9RZbXykzXt",
        "colab_type": "text"
      },
      "source": [
        "### eval()\n",
        "\n",
        "* `eval()` 함수는 문자열에 포함된 수식을 계산하여 나온 결과를 반환\n",
        "* '1 + 2'라는 문자열에 대해서 그대로 출력하는 것과 달리 계산된 결과 값은 3을 출력\n",
        "* 그 밖에도 -, *, /와 같은 여러 수식들에 대해서도 계산 가능"
      ]
    },
    {
      "cell_type": "code",
      "metadata": {
        "id": "m3Fh1-2leEru",
        "colab_type": "code",
        "colab": {
          "base_uri": "https://localhost:8080/",
          "height": 107
        },
        "outputId": "857ac8ae-390f-424a-f025-eb2a6c110c86"
      },
      "source": [
        "print(\"1+2\")\n",
        "print(eval(\"1+2\"))\n",
        "print(eval(\"10+ 20 - 39\"))\n",
        "print(eval(\"10 *10\"))\n",
        "print(eval(\"100/ 10\"))"
      ],
      "execution_count": null,
      "outputs": [
        {
          "output_type": "stream",
          "text": [
            "1+2\n",
            "3\n",
            "-9\n",
            "100\n",
            "10.0\n"
          ],
          "name": "stdout"
        }
      ]
    },
    {
      "cell_type": "markdown",
      "metadata": {
        "id": "nhChZjK3n9KE",
        "colab_type": "text"
      },
      "source": [
        "### tuple()\n",
        "\n",
        "* `tuple()` 함수는 문자열, 리스트, 튜플 등의 자료형을 튜플 자료형으로 변환\n",
        "* 문자열 `'Suan'`을 문자 단위로 구분하여 튜플 자료형으로 변환\n",
        "* 리스트 자료형 `[1, 2, 3]`이나 튜플 자료형 `(1, 2, 3)`도 튜플 자료형으로 `(1, 2, 3)`으로 변환"
      ]
    },
    {
      "cell_type": "code",
      "metadata": {
        "id": "--4Db23Glh-5",
        "colab_type": "code",
        "colab": {
          "base_uri": "https://localhost:8080/",
          "height": 71
        },
        "outputId": "96f3f36a-740d-4d9e-c8ca-7907c2a13e94"
      },
      "source": [
        "print(tuple('keonwoo'))\n",
        "print(tuple([1,2,3]))\n",
        "print(tuple((1,2,3)))"
      ],
      "execution_count": null,
      "outputs": [
        {
          "output_type": "stream",
          "text": [
            "('k', 'e', 'o', 'n', 'w', 'o', 'o')\n",
            "(1, 2, 3)\n",
            "(1, 2, 3)\n"
          ],
          "name": "stdout"
        }
      ]
    },
    {
      "cell_type": "markdown",
      "metadata": {
        "id": "PStvlrGiaphP",
        "colab_type": "text"
      },
      "source": [
        "### list()\n",
        "\n",
        "* `list()` 함수는 문자열, 리스트, 튜플 등의 자료형을 리스트 자료형으로 변환\n",
        "* 문자열 `'Suan'`, 리스트 `[1, 2, 3]`, 튜플 `(1, 2, 3)`에 대해서 리스트 자료형으로 변환"
      ]
    },
    {
      "cell_type": "code",
      "metadata": {
        "id": "OGUiqkOMaova",
        "colab_type": "code",
        "colab": {
          "base_uri": "https://localhost:8080/",
          "height": 71
        },
        "outputId": "482ac6b2-f363-4293-aa3b-6d51863a3258"
      },
      "source": [
        "print(list('keonwoo'))\n",
        "print(list([1,2,3]))\n",
        "print(list((1,2,3)))"
      ],
      "execution_count": null,
      "outputs": [
        {
          "output_type": "stream",
          "text": [
            "['k', 'e', 'o', 'n', 'w', 'o', 'o']\n",
            "[1, 2, 3]\n",
            "[1, 2, 3]\n"
          ],
          "name": "stdout"
        }
      ]
    },
    {
      "cell_type": "markdown",
      "metadata": {
        "id": "J0kr_j2KatLD",
        "colab_type": "text"
      },
      "source": [
        "### set()\n",
        "\n",
        "* `set()` 함수는 문자열, 리스트, 튜플, 집합, 딕셔너리 자료형을 집합 자료형으로 변환\n",
        "* 집합의 특성답게 요소에 대해서 순서를 고려하지 않고 변환\n",
        "* 리스트, 튜플, 집합 자료형도 집합 형태로 변환이 되며, 딕셔너리 자료형도 집합으로 변환\n",
        "* 딕셔너리 자료형은 키와 값으로 구성된 구조에서 키 값에 해당하는 것만 집합으로 변환\n"
      ]
    },
    {
      "cell_type": "code",
      "metadata": {
        "id": "zW0-GhJiavlg",
        "colab_type": "code",
        "colab": {
          "base_uri": "https://localhost:8080/",
          "height": 107
        },
        "outputId": "3e6949e7-6167-4cd5-bc00-e800142f2b43"
      },
      "source": [
        "print(set('keonwoo'))\n",
        "print(set([1,2,3]))\n",
        "print(set((1,2,3)))\n",
        "print(set({1,2,3}))\n",
        "print(set({1:'One', 2:'Two'}))"
      ],
      "execution_count": null,
      "outputs": [
        {
          "output_type": "stream",
          "text": [
            "{'o', 'k', 'n', 'w', 'e'}\n",
            "{1, 2, 3}\n",
            "{1, 2, 3}\n",
            "{1, 2, 3}\n",
            "{1, 2}\n"
          ],
          "name": "stdout"
        }
      ]
    },
    {
      "cell_type": "markdown",
      "metadata": {
        "id": "O3OowqxXayn7",
        "colab_type": "text"
      },
      "source": [
        "### frozenset()\n",
        "\n",
        "* `frozenset()` 함수는 문자열을 고정 집합 형태로 변환\n",
        "* `set()` 함수는 집합의 값을 추가 및 제거 등이 가능\n",
        "* `frozenset()` 함수는 수정 불가능한 집합 자료형"
      ]
    },
    {
      "cell_type": "code",
      "metadata": {
        "id": "VLwYuHvha0ef",
        "colab_type": "code",
        "colab": {
          "base_uri": "https://localhost:8080/",
          "height": 53
        },
        "outputId": "cf77b8aa-472b-48e2-e5e2-2046ce6e2f51"
      },
      "source": [
        "print(frozenset('Keonwoo'))\n",
        "print(frozenset([1, 2, 3]))"
      ],
      "execution_count": null,
      "outputs": [
        {
          "output_type": "stream",
          "text": [
            "frozenset({'o', 'n', 'K', 'w', 'e'})\n",
            "frozenset({1, 2, 3})\n"
          ],
          "name": "stdout"
        }
      ]
    },
    {
      "cell_type": "markdown",
      "metadata": {
        "id": "c5caSaibawSN",
        "colab_type": "text"
      },
      "source": [
        "### dict()\n",
        "\n",
        "* `dict()` 함수는 딕셔너리 자료형으로 변환하는 역할\n",
        "* (키: 값)으로 구성된 튜플의 시퀀스 형태로 값을 가짐\n"
      ]
    },
    {
      "cell_type": "code",
      "metadata": {
        "id": "60x8BRJFayPO",
        "colab_type": "code",
        "colab": {
          "base_uri": "https://localhost:8080/",
          "height": 53
        },
        "outputId": "66224de7-889c-4dbf-e16f-81412e074dc8"
      },
      "source": [
        "print(dict({1:'One', 2: 'Two'}))\n",
        "print(dict({\"One\":1 , \"Two\": 2}))"
      ],
      "execution_count": null,
      "outputs": [
        {
          "output_type": "stream",
          "text": [
            "{1: 'One', 2: 'Two'}\n",
            "{'One': 1, 'Two': 2}\n"
          ],
          "name": "stdout"
        }
      ]
    },
    {
      "cell_type": "markdown",
      "metadata": {
        "id": "2ACrynyca1DD",
        "colab_type": "text"
      },
      "source": [
        "### chr()\n",
        "\n",
        "* `chr()` 함수는 정수를 문자로 변환\n",
        "* 컴퓨터에서는 문자를 처리하기 위해 각 문자마다 특정 정수값으로 매핑: ASCII(American Standard Code for Information Interchange)\n",
        "\n",
        "* `chr()` 함수는 ASCII 기준에 따라서 정수값에 해당하는 문자를 나타냄\n",
        "* 예를 들어, ASCII에서 정수 값 97은 문자 a에 매핑되어 `chr(97)`의 결과 값은 문자 a"
      ]
    },
    {
      "cell_type": "code",
      "metadata": {
        "id": "4IozRAYUa27n",
        "colab_type": "code",
        "colab": {
          "base_uri": "https://localhost:8080/",
          "height": 89
        },
        "outputId": "936a44b6-ece9-4be0-fc41-84c3ea4b2ce8"
      },
      "source": [
        "print(chr(97))\n",
        "print(chr(65))\n",
        "print(chr(122))\n",
        "print(chr(90))"
      ],
      "execution_count": null,
      "outputs": [
        {
          "output_type": "stream",
          "text": [
            "a\n",
            "A\n",
            "z\n",
            "Z\n"
          ],
          "name": "stdout"
        }
      ]
    },
    {
      "cell_type": "markdown",
      "metadata": {
        "id": "pqxx-K67a3Vf",
        "colab_type": "text"
      },
      "source": [
        "### ord()\n",
        "\n",
        "* `ord()` 함수는 `chr()` 함수와 반대로 문자를 정수 값으로 변환\n",
        "* ASCII에 맞춰서 문자 'a'에 해당하는 정수 값인 97을 출력하기"
      ]
    },
    {
      "cell_type": "code",
      "metadata": {
        "id": "Hucvh-qxa5iG",
        "colab_type": "code",
        "colab": {
          "base_uri": "https://localhost:8080/",
          "height": 89
        },
        "outputId": "551dac55-0e4c-4901-8add-a721368f49a8"
      },
      "source": [
        "print(ord('A'))\n",
        "print(ord('a'))\n",
        "print(ord('z'))\n",
        "print(ord('Z'))"
      ],
      "execution_count": null,
      "outputs": [
        {
          "output_type": "stream",
          "text": [
            "65\n",
            "97\n",
            "122\n",
            "90\n"
          ],
          "name": "stdout"
        }
      ]
    },
    {
      "cell_type": "markdown",
      "metadata": {
        "id": "0TDNXL3saLad",
        "colab_type": "text"
      },
      "source": [
        "### bin()\n",
        "\n",
        "* `bin()` 함수는 정수를 2진수 문자열로 변환\n",
        "* 자료형을 2진수 표기인 '0b'가 붙은 형태의 문자열로 변환\n",
        "* `bin()` 함수로 `True`는 `0b1`로 출력하고, `False`는 `0b0`으로 출력하기\n",
        "* 10진수, 2진수, 8진수, 16진수 정수형도 2진수로 변환되어 출력"
      ]
    },
    {
      "cell_type": "code",
      "metadata": {
        "id": "Ia5W7GjVaNSO",
        "colab_type": "code",
        "colab": {
          "base_uri": "https://localhost:8080/",
          "height": 125
        },
        "outputId": "8c9a5fa7-bff9-403c-a72c-1cad543b44e8"
      },
      "source": [
        "print(bin(True))\n",
        "print(bin(False))\n",
        "print(bin(10))\n",
        "print(bin(0b010))\n",
        "print(bin(0o130))\n",
        "print(bin(0xABC))"
      ],
      "execution_count": null,
      "outputs": [
        {
          "output_type": "stream",
          "text": [
            "0b1\n",
            "0b0\n",
            "0b1010\n",
            "0b10\n",
            "0b1011000\n",
            "0b101010111100\n"
          ],
          "name": "stdout"
        }
      ]
    },
    {
      "cell_type": "markdown",
      "metadata": {
        "id": "GhKuz0R7a8nh",
        "colab_type": "text"
      },
      "source": [
        "### oct()\n",
        "\n",
        "* `oct()` 함수는 정수를 8진수 문자열로 변환\n",
        "* 불리언형, 정수형 등의 자료형을 8진수 표기인 '0o'가 붙은 형태의 문자열로 변환\n",
        "* `oct()` 함수를 이용해 `True`는 `0o1`로 출력되고, `False`는 `0o0`으로 출력하기\n",
        "* 10진수, 2진수, 8진수, 16진수 정수형도 8진수로 변환되어 출력"
      ]
    },
    {
      "cell_type": "code",
      "metadata": {
        "id": "hLc4zMe7a-L0",
        "colab_type": "code",
        "colab": {
          "base_uri": "https://localhost:8080/",
          "height": 125
        },
        "outputId": "5b2771b3-0d8a-4772-e1e4-93af8e736d16"
      },
      "source": [
        "print(oct(True))\n",
        "print(oct(False))\n",
        "print(oct(10))\n",
        "print(oct(0b010))\n",
        "print(oct(0o130))\n",
        "print(oct(0xABC))"
      ],
      "execution_count": null,
      "outputs": [
        {
          "output_type": "stream",
          "text": [
            "0o1\n",
            "0o0\n",
            "0o12\n",
            "0o2\n",
            "0o130\n",
            "0o5274\n"
          ],
          "name": "stdout"
        }
      ]
    },
    {
      "cell_type": "markdown",
      "metadata": {
        "id": "_fRnnZfPa59a",
        "colab_type": "text"
      },
      "source": [
        "### hex()\n",
        "\n",
        "* `hex()` 함수는 정수를 16진수 문자열로 변환\n",
        "* 주어진 자료형을 16진수 표기인 '0x'가 붙은 16진수 형태의 문자열로 변환\n",
        "* 불리언형과 정수형 모두 16진수 표기의 문자열로 변환하기\n"
      ]
    },
    {
      "cell_type": "code",
      "metadata": {
        "id": "w_hQsUVTa8Mi",
        "colab_type": "code",
        "colab": {
          "base_uri": "https://localhost:8080/",
          "height": 125
        },
        "outputId": "83501efa-29ee-40a9-bbbd-2957579e9e12"
      },
      "source": [
        "print(hex(True))\n",
        "print(hex(False))\n",
        "print(hex(10))\n",
        "print(hex(0b010))\n",
        "print(hex(0o130))\n",
        "print(hex(0xABC))"
      ],
      "execution_count": null,
      "outputs": [
        {
          "output_type": "stream",
          "text": [
            "0x1\n",
            "0x0\n",
            "0xa\n",
            "0x2\n",
            "0x58\n",
            "0xabc\n"
          ],
          "name": "stdout"
        }
      ]
    },
    {
      "cell_type": "markdown",
      "metadata": {
        "id": "algkb-Zv_v3y",
        "colab_type": "text"
      },
      "source": [
        "### bytes()\n",
        "\n",
        "* `bytes()` 함수는 자료형을 바이트형으로 변환\n",
        "* 객체를 바이트 객체로 변환"
      ]
    },
    {
      "cell_type": "code",
      "metadata": {
        "id": "fBuAnYJQ_wp0",
        "colab_type": "code",
        "colab": {
          "base_uri": "https://localhost:8080/",
          "height": 107
        },
        "outputId": "838bc1c6-11d9-4d56-e3de-396399707e65"
      },
      "source": [
        "print(bytes(True))\n",
        "print(bytes(False))\n",
        "print(bytes(10))\n",
        "print(bytes(b'Hello'))\n",
        "print(bytes([1, 2, 3]))"
      ],
      "execution_count": null,
      "outputs": [
        {
          "output_type": "stream",
          "text": [
            "b'\\x00'\n",
            "b''\n",
            "b'\\x00\\x00\\x00\\x00\\x00\\x00\\x00\\x00\\x00\\x00'\n",
            "b'Hello'\n",
            "b'\\x01\\x02\\x03'\n"
          ],
          "name": "stdout"
        }
      ]
    },
    {
      "cell_type": "markdown",
      "metadata": {
        "id": "6Ow3gwEoBhLt",
        "colab_type": "text"
      },
      "source": [
        "### bytearray()\n",
        "\n",
        "* `bytearray()` 함수는 자료형을 변경가능한 바이트형으로 변환"
      ]
    },
    {
      "cell_type": "code",
      "metadata": {
        "id": "g81YWjlACBuI",
        "colab_type": "code",
        "colab": {
          "base_uri": "https://localhost:8080/",
          "height": 143
        },
        "outputId": "5ada23a4-1577-4c4c-f3db-690d4d7b02c2"
      },
      "source": [
        "ba = bytearray(b'hello')\n",
        "print(ba)\n",
        "ba[0] = ord('H')\n",
        "print(ba)\n",
        "ba[0]= 65\n",
        "print(ba)\n",
        "print(type(ba))\n",
        "\n",
        "ba = bytearray([1, 2, 3])\n",
        "print(ba)\n",
        "ba[0] = 4\n",
        "print(ba)\n",
        "print(type(ba))"
      ],
      "execution_count": null,
      "outputs": [
        {
          "output_type": "stream",
          "text": [
            "bytearray(b'hello')\n",
            "bytearray(b'Hello')\n",
            "bytearray(b'Aello')\n",
            "<class 'bytearray'>\n",
            "bytearray(b'\\x01\\x02\\x03')\n",
            "bytearray(b'\\x04\\x02\\x03')\n",
            "<class 'bytearray'>\n"
          ],
          "name": "stdout"
        }
      ]
    },
    {
      "cell_type": "markdown",
      "metadata": {
        "id": "aP84dGJOEDpt",
        "colab_type": "text"
      },
      "source": [
        "### memoryview()\n",
        "\n",
        "* 바이트 자료형을 메모리의 이진 데이터로 변환한 자료형"
      ]
    },
    {
      "cell_type": "code",
      "metadata": {
        "id": "MxbONoOsEEKH",
        "colab_type": "code",
        "colab": {
          "base_uri": "https://localhost:8080/",
          "height": 71
        },
        "outputId": "853207d3-6eba-4137-d8c6-13a51d8d6bbc"
      },
      "source": [
        "ba = bytearray(b'hello')\n",
        "mv = memoryview(ba)\n",
        "ba[0] = 72\n",
        "print(ba)\n",
        "print(mv)\n",
        "print(type(mv))"
      ],
      "execution_count": null,
      "outputs": [
        {
          "output_type": "stream",
          "text": [
            "bytearray(b'Hello')\n",
            "<memory at 0x7fdad4c8f1c8>\n",
            "<class 'memoryview'>\n"
          ],
          "name": "stdout"
        }
      ]
    },
    {
      "cell_type": "markdown",
      "metadata": {
        "id": "TUtif65eQ4kN",
        "colab_type": "text"
      },
      "source": [
        "## 자료형 계산"
      ]
    },
    {
      "cell_type": "markdown",
      "metadata": {
        "id": "C3IjTWeSRHWa",
        "colab_type": "text"
      },
      "source": [
        "### min()\n",
        "\n",
        "* 입력된 값들 중에서 가장 작은 값을 반환하는 함수"
      ]
    },
    {
      "cell_type": "code",
      "metadata": {
        "id": "MCgOSP0qRKfn",
        "colab_type": "code",
        "colab": {
          "base_uri": "https://localhost:8080/",
          "height": 35
        },
        "outputId": "4a6f98cb-a773-478f-ba66-a99ba7893eed"
      },
      "source": [
        "li = [1,2,3]\n",
        "i = 10\n",
        "min(li[0],i)\n",
        "print(min(1, 2, 3))"
      ],
      "execution_count": null,
      "outputs": [
        {
          "output_type": "stream",
          "text": [
            "1\n"
          ],
          "name": "stdout"
        }
      ]
    },
    {
      "cell_type": "markdown",
      "metadata": {
        "id": "cMVIBtqRRvg0",
        "colab_type": "text"
      },
      "source": [
        "### max()\n",
        "\n",
        "* 입력된 값들 중에서 가장 큰 값을 반환하는 함수"
      ]
    },
    {
      "cell_type": "code",
      "metadata": {
        "id": "GZfgc91LRzda",
        "colab_type": "code",
        "colab": {
          "base_uri": "https://localhost:8080/",
          "height": 53
        },
        "outputId": "a8474889-612e-4f51-b1e8-f19f088440b4"
      },
      "source": [
        "print(max(1,2, 3))\n",
        "print(max([3, 4, 5]))"
      ],
      "execution_count": null,
      "outputs": [
        {
          "output_type": "stream",
          "text": [
            "3\n",
            "5\n"
          ],
          "name": "stdout"
        }
      ]
    },
    {
      "cell_type": "markdown",
      "metadata": {
        "id": "OcnIj5EjR_JJ",
        "colab_type": "text"
      },
      "source": [
        "### sum()\n",
        "\n",
        "* 입력된 값들의 전체 합을 반환"
      ]
    },
    {
      "cell_type": "code",
      "metadata": {
        "id": "FRnME2kiSETx",
        "colab_type": "code",
        "colab": {
          "base_uri": "https://localhost:8080/",
          "height": 53
        },
        "outputId": "b5c0cbeb-e158-4b80-fef3-b07e7a4b4784"
      },
      "source": [
        "print(sum((1, 2, 3)))\n",
        "print(sum([3, 4, 5]))"
      ],
      "execution_count": null,
      "outputs": [
        {
          "output_type": "stream",
          "text": [
            "6\n",
            "12\n"
          ],
          "name": "stdout"
        }
      ]
    },
    {
      "cell_type": "markdown",
      "metadata": {
        "id": "6t8L1aUkSfuG",
        "colab_type": "text"
      },
      "source": [
        "### divmod()\n",
        "\n",
        "* 나눈 값과 나머지 값을 쌍으로 반환\n",
        "* `(a // b, a % b)`와 동일한 값"
      ]
    },
    {
      "cell_type": "code",
      "metadata": {
        "id": "0tEUJTJ5Smt_",
        "colab_type": "code",
        "colab": {
          "base_uri": "https://localhost:8080/",
          "height": 71
        },
        "outputId": "81d99430-2d22-4209-e4c6-2efbb401e31c"
      },
      "source": [
        "print(divmod(3, 5))\n",
        "print(divmod(10, 5))\n",
        "print((10 // 5, 10 %5))"
      ],
      "execution_count": null,
      "outputs": [
        {
          "output_type": "stream",
          "text": [
            "(0, 3)\n",
            "(2, 0)\n",
            "(2, 0)\n"
          ],
          "name": "stdout"
        }
      ]
    },
    {
      "cell_type": "markdown",
      "metadata": {
        "id": "bA34pYq5TOBo",
        "colab_type": "text"
      },
      "source": [
        "### abs()\n",
        "\n",
        "* 절대값 $|x|$으로 반환 "
      ]
    },
    {
      "cell_type": "code",
      "metadata": {
        "id": "k9Tk7j77TRdM",
        "colab_type": "code",
        "colab": {
          "base_uri": "https://localhost:8080/",
          "height": 71
        },
        "outputId": "fe7ff90c-7ca9-4345-e58c-18770172963d"
      },
      "source": [
        "print(abs(-4))\n",
        "print(abs(5))\n",
        "print(abs(-10))"
      ],
      "execution_count": null,
      "outputs": [
        {
          "output_type": "stream",
          "text": [
            "4\n",
            "5\n",
            "10\n"
          ],
          "name": "stdout"
        }
      ]
    },
    {
      "cell_type": "markdown",
      "metadata": {
        "id": "um3henXBThud",
        "colab_type": "text"
      },
      "source": [
        "### pow()\n",
        "\n",
        "* 지수승의 값 $a^b$으로 반환"
      ]
    },
    {
      "cell_type": "code",
      "metadata": {
        "id": "leZovwlVT-Yl",
        "colab_type": "code",
        "colab": {
          "base_uri": "https://localhost:8080/",
          "height": 53
        },
        "outputId": "a11aa2e3-fca3-47f6-a9ef-ff608a4b548d"
      },
      "source": [
        "print(pow(2, 3))\n",
        "print(pow(10,4))"
      ],
      "execution_count": null,
      "outputs": [
        {
          "output_type": "stream",
          "text": [
            "8\n",
            "10000\n"
          ],
          "name": "stdout"
        }
      ]
    },
    {
      "cell_type": "markdown",
      "metadata": {
        "id": "W4b6TVEIU2gw",
        "colab_type": "text"
      },
      "source": [
        "### len(s)\n",
        "\n",
        "* 다양한 시퀀스의 갯수를 반환"
      ]
    },
    {
      "cell_type": "code",
      "metadata": {
        "id": "NIzuE0EVU6yC",
        "colab_type": "code",
        "colab": {
          "base_uri": "https://localhost:8080/",
          "height": 71
        },
        "outputId": "f672869f-055f-4529-fbab-bc709197e34f"
      },
      "source": [
        "print(len(\"String\"))\n",
        "print(len((1, 2, 3)))\n",
        "print(len([4, 5, 6]))"
      ],
      "execution_count": null,
      "outputs": [
        {
          "output_type": "stream",
          "text": [
            "6\n",
            "3\n",
            "3\n"
          ],
          "name": "stdout"
        }
      ]
    },
    {
      "cell_type": "markdown",
      "metadata": {
        "id": "Me-tvSeTVF3I",
        "colab_type": "text"
      },
      "source": [
        "### round()\n",
        "\n",
        "* 소수점 뒤를 반올림한 값을 반환"
      ]
    },
    {
      "cell_type": "code",
      "metadata": {
        "id": "l1m2_f7dVJky",
        "colab_type": "code",
        "colab": {
          "base_uri": "https://localhost:8080/",
          "height": 89
        },
        "outputId": "a19bb059-741b-4500-8c20-29d7633be26d"
      },
      "source": [
        "print(round(3.14))\n",
        "print(round(3.141592,2))\n",
        "print(round(0.6))\n",
        "print(round(0.4))"
      ],
      "execution_count": null,
      "outputs": [
        {
          "output_type": "stream",
          "text": [
            "3\n",
            "3.14\n",
            "1\n",
            "0\n"
          ],
          "name": "stdout"
        }
      ]
    },
    {
      "cell_type": "markdown",
      "metadata": {
        "id": "F39_FXWHVVKh",
        "colab_type": "text"
      },
      "source": [
        "### all()\n",
        "\n",
        "* 모든 값이 `True` 이거나 비어있을 때 `True` 반환"
      ]
    },
    {
      "cell_type": "code",
      "metadata": {
        "id": "ndPHacrvVbeS",
        "colab_type": "code",
        "colab": {
          "base_uri": "https://localhost:8080/",
          "height": 125
        },
        "outputId": "91452044-f01b-4192-f039-e47c54c2cdee"
      },
      "source": [
        "a = [True]*10\n",
        "print(a)\n",
        "b = []\n",
        "print(all(a))\n",
        "print(all(b))\n",
        "print(all((1, 2, 3)))\n",
        "print(all((False,True)))\n",
        "print(all((False, False, False)))"
      ],
      "execution_count": null,
      "outputs": [
        {
          "output_type": "stream",
          "text": [
            "[True, True, True, True, True, True, True, True, True, True]\n",
            "True\n",
            "True\n",
            "True\n",
            "False\n",
            "False\n"
          ],
          "name": "stdout"
        }
      ]
    },
    {
      "cell_type": "markdown",
      "metadata": {
        "id": "fanBFnO1V0Zu",
        "colab_type": "text"
      },
      "source": [
        "### any()\n",
        "\n",
        "* 어떤 값이 `True` 이면 `True` 반환\n",
        "* 값이 비어있으면 `False` 반환"
      ]
    },
    {
      "cell_type": "code",
      "metadata": {
        "id": "oA6TIhIoV5gF",
        "colab_type": "code",
        "colab": {
          "base_uri": "https://localhost:8080/",
          "height": 89
        },
        "outputId": "46c450f0-b15a-4894-cadd-5f8a3de89716"
      },
      "source": [
        "print(any((1, 2, 3)))\n",
        "print(any((False,True)))\n",
        "print(any((False, False, False)))\n",
        "print(any([]))"
      ],
      "execution_count": null,
      "outputs": [
        {
          "output_type": "stream",
          "text": [
            "True\n",
            "True\n",
            "False\n",
            "False\n"
          ],
          "name": "stdout"
        }
      ]
    },
    {
      "cell_type": "markdown",
      "metadata": {
        "id": "D_yWm1gBEo4p",
        "colab_type": "text"
      },
      "source": [
        "\n",
        "\n",
        "---\n",
        "\n"
      ]
    },
    {
      "cell_type": "markdown",
      "metadata": {
        "id": "mypjHsFSEtLz",
        "colab_type": "text"
      },
      "source": [
        "# 연산자(Operators)\n",
        "\n"
      ]
    },
    {
      "cell_type": "markdown",
      "metadata": {
        "id": "5vw1RQEmFpTn",
        "colab_type": "text"
      },
      "source": [
        "## 산술 연산자(Arithmetic Operators)\n",
        "\n"
      ]
    },
    {
      "cell_type": "code",
      "metadata": {
        "id": "iaozGCpH-Sze",
        "colab_type": "code",
        "colab": {
          "base_uri": "https://localhost:8080/",
          "height": 143
        },
        "outputId": "8e44c94b-14e8-404d-ea05-20302eda8788"
      },
      "source": [
        "a = 6\n",
        "b = 4\n",
        "print(a+b)\n",
        "print(a-b)\n",
        "print(a* b)\n",
        "print(a/b)\n",
        "print(a%b)\n",
        "print(a **b)\n",
        "print(a//b)"
      ],
      "execution_count": null,
      "outputs": [
        {
          "output_type": "stream",
          "text": [
            "10\n",
            "2\n",
            "24\n",
            "1.5\n",
            "2\n",
            "1296\n",
            "1\n"
          ],
          "name": "stdout"
        }
      ]
    },
    {
      "cell_type": "markdown",
      "metadata": {
        "id": "BbNJjYvkSzyQ",
        "colab_type": "text"
      },
      "source": [
        "## 비교 연산자(Comparison Operators)\n",
        "\n"
      ]
    },
    {
      "cell_type": "markdown",
      "metadata": {
        "id": "bTeoBpa-M20C",
        "colab_type": "text"
      },
      "source": [
        "# 새 섹션"
      ]
    },
    {
      "cell_type": "code",
      "metadata": {
        "id": "EZELCQFgPmgI",
        "colab_type": "code",
        "colab": {
          "base_uri": "https://localhost:8080/",
          "height": 125
        },
        "outputId": "c5b77a57-3b71-43b2-8387-61e17fe35b9a"
      },
      "source": [
        "a , b = 6, 4\n",
        "print(a == b)\n",
        "print(a != b)\n",
        "print(a > b)\n",
        "print(a < b)\n",
        "print(a >=b)\n",
        "print(a <=b)"
      ],
      "execution_count": null,
      "outputs": [
        {
          "output_type": "stream",
          "text": [
            "False\n",
            "True\n",
            "True\n",
            "False\n",
            "True\n",
            "False\n"
          ],
          "name": "stdout"
        }
      ]
    },
    {
      "cell_type": "markdown",
      "metadata": {
        "id": "aKigU9vxWMPE",
        "colab_type": "text"
      },
      "source": [
        "## 할당 연산자(Assignment Operators)\n",
        "\n"
      ]
    },
    {
      "cell_type": "code",
      "metadata": {
        "id": "8kQmBvcgVZag",
        "colab_type": "code",
        "colab": {
          "base_uri": "https://localhost:8080/",
          "height": 161
        },
        "outputId": "1319f2f1-b59c-4f3f-db65-b37cf9cd47de"
      },
      "source": [
        "a , b = 6, 4\n",
        "print(a, b)\n",
        "a +=b\n",
        "print(a)\n",
        "a -=b\n",
        "print(a)\n",
        "a *= b\n",
        "print(a)\n",
        "a /= b\n",
        "print(a)\n",
        "a %= b\n",
        "print(a)\n",
        "a **=b \n",
        "print(a)\n",
        "a //=b\n",
        "print(a)"
      ],
      "execution_count": null,
      "outputs": [
        {
          "output_type": "stream",
          "text": [
            "6 4\n",
            "10\n",
            "6\n",
            "24\n",
            "6.0\n",
            "2.0\n",
            "16.0\n",
            "4.0\n"
          ],
          "name": "stdout"
        }
      ]
    },
    {
      "cell_type": "markdown",
      "metadata": {
        "id": "fEbvvt68ZEkR",
        "colab_type": "text"
      },
      "source": [
        "## 비트 연산자(Bitwise Operators)\n"
      ]
    },
    {
      "cell_type": "code",
      "metadata": {
        "id": "p7Py0jU6Xb-Y",
        "colab_type": "code",
        "colab": {
          "base_uri": "https://localhost:8080/",
          "height": 161
        },
        "outputId": "11cf686b-749f-4423-cddb-b1b3cde11fa0"
      },
      "source": [
        "a, b = 6,4\n",
        "print(bin(a))\n",
        "print(bin(b))\n",
        "print(a & b, bin(a & b))\n",
        "print(a | b, bin(a | b))\n",
        "print(a ^ b, bin(a ^ b))\n",
        "print(~a, bin(~a))\n",
        "print(a << b, bin(a << b))\n",
        "print(a >> b, bin(a >> b))"
      ],
      "execution_count": null,
      "outputs": [
        {
          "output_type": "stream",
          "text": [
            "0b110\n",
            "0b100\n",
            "4 0b100\n",
            "6 0b110\n",
            "2 0b10\n",
            "-7 -0b111\n",
            "96 0b1100000\n",
            "0 0b0\n"
          ],
          "name": "stdout"
        }
      ]
    },
    {
      "cell_type": "markdown",
      "metadata": {
        "id": "mTlDlBfHb56x",
        "colab_type": "text"
      },
      "source": [
        "## 논리 연산자(Logical Operators)\n"
      ]
    },
    {
      "cell_type": "code",
      "metadata": {
        "id": "h_cAKWdLbRrT",
        "colab_type": "code",
        "colab": {
          "base_uri": "https://localhost:8080/",
          "height": 125
        },
        "outputId": "71b19418-049e-48fb-c04a-3c78c986e156"
      },
      "source": [
        "print(True and True)\n",
        "print(True and False)\n",
        "print(True or False)\n",
        "print(not True)\n",
        "print(not False)\n",
        "print(not (True and False))"
      ],
      "execution_count": null,
      "outputs": [
        {
          "output_type": "stream",
          "text": [
            "True\n",
            "False\n",
            "True\n",
            "False\n",
            "True\n",
            "True\n"
          ],
          "name": "stdout"
        }
      ]
    },
    {
      "cell_type": "markdown",
      "metadata": {
        "id": "7YkZ_IM1cqO_",
        "colab_type": "text"
      },
      "source": [
        "## 멤버 연산자(Membership Operators)\n"
      ]
    },
    {
      "cell_type": "code",
      "metadata": {
        "id": "7ZOrVkhMcfUE",
        "colab_type": "code",
        "colab": {
          "base_uri": "https://localhost:8080/",
          "height": 89
        },
        "outputId": "8353e22e-39e4-4422-a7f0-6852ea2c1ee0"
      },
      "source": [
        "a, b = 6, 4\n",
        "l = [2, 4 ,8]\n",
        "print(a in l)\n",
        "print(b in l)\n",
        "print(a not in l)\n",
        "print(b not in l)"
      ],
      "execution_count": null,
      "outputs": [
        {
          "output_type": "stream",
          "text": [
            "False\n",
            "True\n",
            "True\n",
            "False\n"
          ],
          "name": "stdout"
        }
      ]
    },
    {
      "cell_type": "markdown",
      "metadata": {
        "id": "rolPOjSYdQvA",
        "colab_type": "text"
      },
      "source": [
        "## 식별 연산자(Identity Operators)\n"
      ]
    },
    {
      "cell_type": "code",
      "metadata": {
        "id": "tZ5C_GI_dChN",
        "colab_type": "code",
        "colab": {
          "base_uri": "https://localhost:8080/",
          "height": 89
        },
        "outputId": "bc291f4a-aba5-4088-e256-7f314c96d9a1"
      },
      "source": [
        "a, b = 6, 4\n",
        "print(a is b)\n",
        "print(a is not b)\n",
        "a, b = 5, 5\n",
        "print(a is b)\n",
        "print(a is not b)"
      ],
      "execution_count": null,
      "outputs": [
        {
          "output_type": "stream",
          "text": [
            "False\n",
            "True\n",
            "True\n",
            "False\n"
          ],
          "name": "stdout"
        }
      ]
    }
  ]
}