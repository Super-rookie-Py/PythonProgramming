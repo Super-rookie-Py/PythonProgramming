{
  "nbformat": 4,
  "nbformat_minor": 0,
  "metadata": {
    "colab": {
      "name": "박건우 - _07 함수.ipynb",
      "provenance": [],
      "collapsed_sections": [],
      "include_colab_link": true
    },
    "kernelspec": {
      "name": "python3",
      "display_name": "Python 3"
    }
  },
  "cells": [
    {
      "cell_type": "markdown",
      "metadata": {
        "id": "view-in-github",
        "colab_type": "text"
      },
      "source": [
        "<a href=\"https://colab.research.google.com/github/Super-rookie-Py/PythonProgramming/blob/master/%EB%B0%95%EA%B1%B4%EC%9A%B0__07_%ED%95%A8%EC%88%98.ipynb\" target=\"_parent\"><img src=\"https://colab.research.google.com/assets/colab-badge.svg\" alt=\"Open In Colab\"/></a>"
      ]
    },
    {
      "cell_type": "markdown",
      "metadata": {
        "id": "bg5ZXMV2sn1M",
        "colab_type": "text"
      },
      "source": [
        "# 함수(Function)\n",
        "- keonwoo Park 2020/08/21"
      ]
    },
    {
      "cell_type": "markdown",
      "metadata": {
        "id": "Lj_iZPKnCRP0",
        "colab_type": "text"
      },
      "source": [
        "\n",
        "\n",
        "---\n",
        "\n"
      ]
    },
    {
      "cell_type": "markdown",
      "metadata": {
        "id": "zXbENjlMCrkU",
        "colab_type": "text"
      },
      "source": [
        "## 함수 기본"
      ]
    },
    {
      "cell_type": "markdown",
      "metadata": {
        "id": "GWTyreZRzzmW",
        "colab_type": "text"
      },
      "source": [
        "### 함수 선언\n",
        "\n"
      ]
    },
    {
      "cell_type": "markdown",
      "metadata": {
        "id": "qQc_0nwV1YyE",
        "colab_type": "text"
      },
      "source": [
        "### 매개변수와 반환값이 없는 함수\n",
        "\n",
        "* 함수에 매개변수와 반환값이 없이 사용 가능\n",
        "* 함수를 호출하면 함수의 수행문이 실행"
      ]
    },
    {
      "cell_type": "code",
      "metadata": {
        "id": "VIauKM25w6Aw",
        "colab_type": "code",
        "colab": {
          "base_uri": "https://localhost:8080/",
          "height": 34
        },
        "outputId": "ece3361a-3a52-438d-d5de-cf418f8920b1"
      },
      "source": [
        "def hello():\n",
        "  print(\"안녕하세요 !\")\n",
        "\n",
        "hello()"
      ],
      "execution_count": 1,
      "outputs": [
        {
          "output_type": "stream",
          "text": [
            "안녕하세요 !\n"
          ],
          "name": "stdout"
        }
      ]
    },
    {
      "cell_type": "markdown",
      "metadata": {
        "id": "eeldN6Kq20h4",
        "colab_type": "text"
      },
      "source": [
        "### 매개변수만 있는 함수\n",
        "\n",
        "* 문자열 매개변수를 사용한 함수"
      ]
    },
    {
      "cell_type": "code",
      "metadata": {
        "id": "DhVqlr5f24Px",
        "colab_type": "code",
        "colab": {
          "base_uri": "https://localhost:8080/",
          "height": 34
        },
        "outputId": "4d3c42a0-3c22-4b37-c3d7-350b09e74e22"
      },
      "source": [
        "def hello(string):\n",
        "  print(\"Hello\", string)\n",
        "\n",
        "hello(\"Python\")"
      ],
      "execution_count": 3,
      "outputs": [
        {
          "output_type": "stream",
          "text": [
            "Hello Python\n"
          ],
          "name": "stdout"
        }
      ]
    },
    {
      "cell_type": "markdown",
      "metadata": {
        "id": "mmzbeJNq3uMA",
        "colab_type": "text"
      },
      "source": [
        "### 반환 값만 있는 함수\n",
        "\n",
        "* 문자열 반환 값을 사용한 함수"
      ]
    },
    {
      "cell_type": "code",
      "metadata": {
        "id": "hv7QPvAN33bB",
        "colab_type": "code",
        "colab": {
          "base_uri": "https://localhost:8080/",
          "height": 34
        },
        "outputId": "dd64e215-ba89-4537-8481-7268b5405d76"
      },
      "source": [
        "def hello():\n",
        "  return \"Hello Python\"\n",
        "\n",
        "hello()\n"
      ],
      "execution_count": 6,
      "outputs": [
        {
          "output_type": "execute_result",
          "data": {
            "application/vnd.google.colaboratory.intrinsic+json": {
              "type": "string"
            },
            "text/plain": [
              "'Hello Python'"
            ]
          },
          "metadata": {
            "tags": []
          },
          "execution_count": 6
        }
      ]
    },
    {
      "cell_type": "markdown",
      "metadata": {
        "id": "KY_pW4pZ4CbM",
        "colab_type": "text"
      },
      "source": [
        "### 매개변수와 반환 값이 있는 함수\n",
        "\n",
        "* 정수형 매개변수와 반환 값을 사용한 함수"
      ]
    },
    {
      "cell_type": "code",
      "metadata": {
        "id": "c3aDaQLX4Hwf",
        "colab_type": "code",
        "colab": {
          "base_uri": "https://localhost:8080/",
          "height": 34
        },
        "outputId": "b9fccb6c-922c-42d8-ddd8-539db424c4e3"
      },
      "source": [
        "def square(num):\n",
        "  return num * num\n",
        "\n",
        "square(5)"
      ],
      "execution_count": 7,
      "outputs": [
        {
          "output_type": "execute_result",
          "data": {
            "text/plain": [
              "25"
            ]
          },
          "metadata": {
            "tags": []
          },
          "execution_count": 7
        }
      ]
    },
    {
      "cell_type": "markdown",
      "metadata": {
        "id": "BY9mQXbf4TRK",
        "colab_type": "text"
      },
      "source": [
        "### 매개변수가 여러개 있는 함수\n",
        "\n",
        "* 정수형 매개변수 여러개를 사용한 함수\n",
        "* 매개변수를 지정하여 호출 가능"
      ]
    },
    {
      "cell_type": "code",
      "metadata": {
        "id": "DBc8hUNE4YKr",
        "colab_type": "code",
        "colab": {
          "base_uri": "https://localhost:8080/",
          "height": 52
        },
        "outputId": "50392283-611e-4dd3-d9b7-2ff764f7e778"
      },
      "source": [
        "def add(a, b):\n",
        "  return a + b\n",
        "\n",
        "print(add(5, 8))\n",
        "print(add(b= 5, a =8))"
      ],
      "execution_count": 10,
      "outputs": [
        {
          "output_type": "stream",
          "text": [
            "13\n",
            "13\n"
          ],
          "name": "stdout"
        }
      ]
    },
    {
      "cell_type": "markdown",
      "metadata": {
        "id": "meUZXmUR4knx",
        "colab_type": "text"
      },
      "source": [
        "### 키워드 매개변수\n",
        "\n",
        "* 함수의 매개변수를 변수명을 지정하여 호출 가능"
      ]
    },
    {
      "cell_type": "code",
      "metadata": {
        "id": "k0FipvNp4pXl",
        "colab_type": "code",
        "colab": {
          "base_uri": "https://localhost:8080/",
          "height": 34
        },
        "outputId": "38896d5d-a993-41a6-bd62-168d290da81d"
      },
      "source": [
        "def add(a, b):\n",
        "  return a + b\n",
        "\n",
        "print(add(b= 5, a =8))"
      ],
      "execution_count": 11,
      "outputs": [
        {
          "output_type": "stream",
          "text": [
            "13\n"
          ],
          "name": "stdout"
        }
      ]
    },
    {
      "cell_type": "markdown",
      "metadata": {
        "id": "3f_8Jxyh5EKA",
        "colab_type": "text"
      },
      "source": [
        "### 가변 매개변수\n",
        "\n",
        "* 매개변수가 몇 개인지 알 수 없을 때 사용\n",
        "* 매개변수 앞에 '*'을 표시"
      ]
    },
    {
      "cell_type": "code",
      "metadata": {
        "id": "uVpBRKq65JLe",
        "colab_type": "code",
        "colab": {
          "base_uri": "https://localhost:8080/",
          "height": 52
        },
        "outputId": "ae704a63-790b-4525-9459-f9aa7ed6e1fb"
      },
      "source": [
        "def sum(*args):\n",
        "  result = 0\n",
        "  for i in args:\n",
        "    result += i\n",
        "  return result\n",
        "\n",
        "print(sum(1, 2, 3, 4, 5))\n",
        "print(sum(1, 2, 3))"
      ],
      "execution_count": 14,
      "outputs": [
        {
          "output_type": "stream",
          "text": [
            "15\n",
            "6\n"
          ],
          "name": "stdout"
        }
      ]
    },
    {
      "cell_type": "markdown",
      "metadata": {
        "id": "czo-wmdL5YRR",
        "colab_type": "text"
      },
      "source": [
        "### 가변 키워드 매개변수\n",
        "\n",
        "* 매개변수의 이름을 따로 지정하지 않고 사용\n",
        "* 매개변수 앞에 '**'을 표시"
      ]
    },
    {
      "cell_type": "code",
      "metadata": {
        "id": "jcPIBpWF5d9N",
        "colab_type": "code",
        "colab": {
          "base_uri": "https://localhost:8080/",
          "height": 87
        },
        "outputId": "a36841ec-59a8-43e0-e349-2eec2f7295e1"
      },
      "source": [
        "def print_kwargs(**kwargs):\n",
        "  print(kwargs)\n",
        "  print(type(kwargs))\n",
        "print_kwargs(n1 = 5, n2 = 8)\n",
        "print_kwargs(id = \"keonwoo\", passwords = \"1234\")\n"
      ],
      "execution_count": 17,
      "outputs": [
        {
          "output_type": "stream",
          "text": [
            "{'n1': 5, 'n2': 8}\n",
            "<class 'dict'>\n",
            "{'id': 'keonwoo', 'passwords': '1234'}\n",
            "<class 'dict'>\n"
          ],
          "name": "stdout"
        }
      ]
    },
    {
      "cell_type": "markdown",
      "metadata": {
        "id": "BcE5o1GR5ugB",
        "colab_type": "text"
      },
      "source": [
        "### 초기값 매개변수\n",
        "\n",
        "* 매개변수에 초기값을 설정하여 사용\n",
        "* 함수에 매개변수를 사용하지 않을 때 초기값을 사용"
      ]
    },
    {
      "cell_type": "code",
      "metadata": {
        "id": "Wdsz0tcZ50s_",
        "colab_type": "code",
        "colab": {
          "base_uri": "https://localhost:8080/",
          "height": 87
        },
        "outputId": "54f2afbe-0cce-47bd-a19e-d949badd3006"
      },
      "source": [
        "def power(b = 2, n = 2):\n",
        "  return pow(b, n)\n",
        "\n",
        "print(power(10))\n",
        "print(power())\n",
        "print(power(3, 4))\n",
        "print(power(n = 7))"
      ],
      "execution_count": 21,
      "outputs": [
        {
          "output_type": "stream",
          "text": [
            "100\n",
            "4\n",
            "81\n",
            "128\n"
          ],
          "name": "stdout"
        }
      ]
    },
    {
      "cell_type": "markdown",
      "metadata": {
        "id": "zEmGFAyv6ARs",
        "colab_type": "text"
      },
      "source": [
        "### 여러 반환 값이 있는 함수\n",
        "\n",
        "* 함수의 반환값은 하나\n",
        "* 여러 반환값을 사용할 경우 튜플 형태로 반환"
      ]
    },
    {
      "cell_type": "code",
      "metadata": {
        "id": "4uA_PmQR6FW5",
        "colab_type": "code",
        "colab": {
          "base_uri": "https://localhost:8080/",
          "height": 70
        },
        "outputId": "aeeb68dd-0932-4742-baf0-9a7618b43816"
      },
      "source": [
        "def plus_and_minus(n1, n2):\n",
        "  return n1 + n2, n1-n2\n",
        "\n",
        "result = plus_and_minus(8, 5)\n",
        "print(type(result))\n",
        "print(result)\n",
        "\n",
        "result1, result2 = plus_and_minus(8, 5)\n",
        "print(result1, result2)"
      ],
      "execution_count": 27,
      "outputs": [
        {
          "output_type": "stream",
          "text": [
            "<class 'tuple'>\n",
            "(13, 3)\n",
            "13 3\n"
          ],
          "name": "stdout"
        }
      ]
    },
    {
      "cell_type": "markdown",
      "metadata": {
        "id": "XM8NFJC96cX7",
        "colab_type": "text"
      },
      "source": [
        "### [Lab] 계산기 함수\n",
        "\n",
        "* 두 수에 대해서 덧셈, 뺄셈, 곱셈, 나눗셈을 수행하는 함수"
      ]
    },
    {
      "cell_type": "code",
      "metadata": {
        "id": "XDXeVHIJ6gpm",
        "colab_type": "code",
        "colab": {
          "base_uri": "https://localhost:8080/",
          "height": 52
        },
        "outputId": "f27ee60e-d7cf-48ba-86ab-caae84a0f0b6"
      },
      "source": [
        "def calc(op, n1, n2):\n",
        "  result = 0\n",
        "  if op == '+':\n",
        "    result = n1 + n2\n",
        "  elif op == \"-\":\n",
        "    result = n1 - n2\n",
        "  elif op == \"*\":\n",
        "    result = n1 * n2\n",
        "  elif op == \"/\":\n",
        "    result = n1 / n2\n",
        "  return result\n",
        "\n",
        "print(calc('+', 8 , 5))\n",
        "print(calc(\"*\", 8 , 5))\n"
      ],
      "execution_count": 28,
      "outputs": [
        {
          "output_type": "stream",
          "text": [
            "13\n",
            "40\n"
          ],
          "name": "stdout"
        }
      ]
    },
    {
      "cell_type": "markdown",
      "metadata": {
        "id": "GXfPMgdV696x",
        "colab_type": "text"
      },
      "source": [
        "### [Lab] 가변 매개변수의 평균값 계산\n",
        "\n",
        "* 가변 매개변수로 들어오는 모든 수의 평균값 계산"
      ]
    },
    {
      "cell_type": "code",
      "metadata": {
        "id": "xgVFwpIm7CPY",
        "colab_type": "code",
        "colab": {
          "base_uri": "https://localhost:8080/",
          "height": 34
        },
        "outputId": "fda8e99c-29fe-4265-fe30-8575f85e980e"
      },
      "source": [
        "def avg(*args):\n",
        "  sum = 0\n",
        "  for i in args:\n",
        "    sum += i\n",
        "  return (sum/len(args))\n",
        "\n",
        "print(avg(1, 2, 3 ,4 ,5))"
      ],
      "execution_count": 29,
      "outputs": [
        {
          "output_type": "stream",
          "text": [
            "3.0\n"
          ],
          "name": "stdout"
        }
      ]
    },
    {
      "cell_type": "markdown",
      "metadata": {
        "id": "G8OTXx4aw7mY",
        "colab_type": "text"
      },
      "source": [
        "\n",
        "\n",
        "---\n",
        "\n"
      ]
    },
    {
      "cell_type": "markdown",
      "metadata": {
        "id": "4y7j6wwPw9zd",
        "colab_type": "text"
      },
      "source": [
        "## 변수의 유효범위\n"
      ]
    },
    {
      "cell_type": "markdown",
      "metadata": {
        "id": "UjzGwc9D7b9d",
        "colab_type": "text"
      },
      "source": [
        "### 유효 범위\n",
        "\n",
        "* 변수는 유효한 범위가 존재\n",
        "* 함수 안에서 선언된 변수는 함수 내부에서 유효함"
      ]
    },
    {
      "cell_type": "code",
      "metadata": {
        "id": "vvew4Dhq7gYv",
        "colab_type": "code",
        "colab": {
          "base_uri": "https://localhost:8080/",
          "height": 34
        },
        "outputId": "b0d8b8de-aade-48fd-8409-44f393095897"
      },
      "source": [
        "def var_scope(a):\n",
        "  a = a + 1\n",
        "\n",
        "a = 10\n",
        "var_scope(a)\n",
        "print(a)"
      ],
      "execution_count": 30,
      "outputs": [
        {
          "output_type": "stream",
          "text": [
            "10\n"
          ],
          "name": "stdout"
        }
      ]
    },
    {
      "cell_type": "markdown",
      "metadata": {
        "id": "7O3U3dYT7nXD",
        "colab_type": "text"
      },
      "source": [
        "### 변수의 종류\n",
        "\n",
        "* 지역 변수: 한정된 지역에서만 사용되는 변수\n",
        "* 전역 변수: 프로그램 전체에서 사용되는 변수"
      ]
    },
    {
      "cell_type": "code",
      "metadata": {
        "id": "dhTOG0Uj7tOL",
        "colab_type": "code",
        "colab": {
          "base_uri": "https://localhost:8080/",
          "height": 70
        },
        "outputId": "a3d4d694-94bf-4d7b-dcfd-4044d447ff4c"
      },
      "source": [
        "a = 10\n",
        "\n",
        "def func1():\n",
        "  a = 20\n",
        "  print(a)\n",
        "\n",
        "def func2():\n",
        "  print(a)\n",
        "\n",
        "func1()\n",
        "func2()\n",
        "print(a)"
      ],
      "execution_count": 35,
      "outputs": [
        {
          "output_type": "stream",
          "text": [
            "20\n",
            "10\n",
            "10\n"
          ],
          "name": "stdout"
        }
      ]
    },
    {
      "cell_type": "markdown",
      "metadata": {
        "id": "3-OF8own71vk",
        "colab_type": "text"
      },
      "source": [
        "### 전역 변수 사용 global\n",
        "\n",
        "* 함수 내부에서 전역 변수를 사용하기 위한 `global` 키워드"
      ]
    },
    {
      "cell_type": "code",
      "metadata": {
        "id": "J_P_WGSr75jp",
        "colab_type": "code",
        "colab": {
          "base_uri": "https://localhost:8080/",
          "height": 70
        },
        "outputId": "8ca0799f-8e06-4415-8b95-8e6aaf3a2aff"
      },
      "source": [
        "a = 10\n",
        "def func1():\n",
        "  global a\n",
        "  a = 20\n",
        "  print(a)\n",
        "\n",
        "def func2():\n",
        "  print(a)\n",
        "  \n",
        "func1()\n",
        "func2()\n",
        "print(a)"
      ],
      "execution_count": 34,
      "outputs": [
        {
          "output_type": "stream",
          "text": [
            "20\n",
            "20\n",
            "20\n"
          ],
          "name": "stdout"
        }
      ]
    },
    {
      "cell_type": "markdown",
      "metadata": {
        "id": "NxjgnIKoxGkH",
        "colab_type": "text"
      },
      "source": [
        "\n",
        "\n",
        "---\n",
        "\n"
      ]
    },
    {
      "cell_type": "markdown",
      "metadata": {
        "id": "8x-oWtbBxCpE",
        "colab_type": "text"
      },
      "source": [
        "## 함수 심화"
      ]
    },
    {
      "cell_type": "markdown",
      "metadata": {
        "id": "GbFr5qM78B41",
        "colab_type": "text"
      },
      "source": [
        "### 내부 함수(Nested Function)\n",
        "\n",
        "* 함수 안에 함수가 존재\n",
        "* 내부 함수는 외부에서 호출 불가"
      ]
    },
    {
      "cell_type": "code",
      "metadata": {
        "id": "6aBHDw7x8Gr5",
        "colab_type": "code",
        "colab": {
          "base_uri": "https://localhost:8080/",
          "height": 34
        },
        "outputId": "11f1675a-9bd8-48ca-88ea-a52ec463c454"
      },
      "source": [
        "def func1(n1, n2):\n",
        "  def func2(num1, num2):\n",
        "    return num1 + num2\n",
        "  return func2(n1, n2)\n",
        "\n",
        "print(func1(5, 8 ))"
      ],
      "execution_count": 36,
      "outputs": [
        {
          "output_type": "stream",
          "text": [
            "13\n"
          ],
          "name": "stdout"
        }
      ]
    },
    {
      "cell_type": "markdown",
      "metadata": {
        "id": "RMlNesEi87cD",
        "colab_type": "text"
      },
      "source": [
        "### 재귀 함수(Recursive Function)\n",
        "\n",
        "* 함수가 자기 자신을 다시 부르는 함수\n",
        "* `count()` 함수 내부에서 `count()` 함수를 호출\n",
        "* 재귀적으로 카운트 수를 출력"
      ]
    },
    {
      "cell_type": "code",
      "metadata": {
        "id": "ATwXBqDH9Fuk",
        "colab_type": "code",
        "colab": {
          "base_uri": "https://localhost:8080/",
          "height": 34
        },
        "outputId": "226a6789-4ecb-4a41-cffa-754f0f88d4a6"
      },
      "source": [
        "def count(n):\n",
        "  if n >= 1:\n",
        "    print(n, end =' ')\n",
        "    count(n - 1)\n",
        "  else:\n",
        "    return\n",
        "\n",
        "count(10)"
      ],
      "execution_count": 37,
      "outputs": [
        {
          "output_type": "stream",
          "text": [
            "10 9 8 7 6 5 4 3 2 1 "
          ],
          "name": "stdout"
        }
      ]
    },
    {
      "cell_type": "markdown",
      "metadata": {
        "id": "8GTG0ukpIfRm",
        "colab_type": "text"
      },
      "source": [
        "#### [Lab] 재귀 함수를 이용한 합계\n",
        "\n",
        "* `sum()` 함수 내부에서 `sum()` 함수를 호출\n",
        "* 재귀적으로 합계를 계산"
      ]
    },
    {
      "cell_type": "code",
      "metadata": {
        "id": "5oIubHWwHj_j",
        "colab_type": "code",
        "colab": {
          "base_uri": "https://localhost:8080/",
          "height": 52
        },
        "outputId": "3e8c8e33-8cf0-4b31-ff33-02d0e7759eac"
      },
      "source": [
        "def sum(n):\n",
        "  if n == 1:\n",
        "    return 1\n",
        "  else:\n",
        "    return n + sum(n-1)\n",
        "\n",
        "print(sum(10))\n",
        "print(sum(100))"
      ],
      "execution_count": 40,
      "outputs": [
        {
          "output_type": "stream",
          "text": [
            "55\n",
            "5050\n"
          ],
          "name": "stdout"
        }
      ]
    },
    {
      "cell_type": "markdown",
      "metadata": {
        "id": "fB5LHNGv9v_U",
        "colab_type": "text"
      },
      "source": [
        "#### [Lab] 팩토리얼 함수(Factorial Function)\n",
        "\n",
        "* 팩토리얼(factorial) 함수는 대표적인 재귀 함수\n",
        "* 팩토리얼 함수: $n!=1 \\times 2 \\times 3 \\dots (n-2) \\times (n-1) \\times n = n! = n \\times (n-1)!$"
      ]
    },
    {
      "cell_type": "code",
      "metadata": {
        "id": "Mh_3nSfC9ggl",
        "colab_type": "code",
        "colab": {
          "base_uri": "https://localhost:8080/",
          "height": 52
        },
        "outputId": "e375f5a4-fa86-452f-f9d6-7fa904b9e21c"
      },
      "source": [
        "def factorial(n):\n",
        "  if n == 1:\n",
        "    return 1\n",
        "  else:\n",
        "    return n * factorial(n-1)\n",
        "\n",
        "print(factorial(6))\n",
        "print(factorial(8))"
      ],
      "execution_count": 42,
      "outputs": [
        {
          "output_type": "stream",
          "text": [
            "720\n",
            "40320\n"
          ],
          "name": "stdout"
        }
      ]
    },
    {
      "cell_type": "markdown",
      "metadata": {
        "id": "zxfnzzyh_CVn",
        "colab_type": "text"
      },
      "source": [
        "### 람다 함수(Lambda Function)\n",
        "\n",
        "* 함수를 한 줄로 간결하게 만들어 사용"
      ]
    },
    {
      "cell_type": "code",
      "metadata": {
        "id": "Dm05soHF-7O1",
        "colab_type": "code",
        "colab": {
          "base_uri": "https://localhost:8080/",
          "height": 52
        },
        "outputId": "185100e1-a1bb-40f7-9185-a8d5ea2a76bd"
      },
      "source": [
        "def add(n1, n2):\n",
        "  return n1 + n2\n",
        "\n",
        "print(add(5, 8))\n",
        "\n",
        "add2 = lambda n1 , n2 : n1 + n2\n",
        "print(add2(5, 8))"
      ],
      "execution_count": 44,
      "outputs": [
        {
          "output_type": "stream",
          "text": [
            "13\n",
            "13\n"
          ],
          "name": "stdout"
        }
      ]
    },
    {
      "cell_type": "markdown",
      "metadata": {
        "id": "Rwi3kI22_tMu",
        "colab_type": "text"
      },
      "source": [
        "#### map()\n",
        "\n",
        "* `map()`: built-in 함수로 list 나 dictionary 와 같은 iterable 한 데이터를 인자로 받아 list 안의 개별 item을 함수의 인자로 전달하여 결과를 list로 형태로 반환해 주는 함수\n",
        "* 람다 함수와 `map()` 함수를 이용한 리스트 계산"
      ]
    },
    {
      "cell_type": "code",
      "metadata": {
        "id": "1TajyYRT_Sld",
        "colab_type": "code",
        "colab": {
          "base_uri": "https://localhost:8080/",
          "height": 34
        },
        "outputId": "78d54f46-995a-45bc-a31b-5d02fc6c8efa"
      },
      "source": [
        "li = [1, 2, 3, 4, 5]\n",
        "square = lambda n : n * n\n",
        "li = list(map(square, li))\n",
        "print(li)"
      ],
      "execution_count": 46,
      "outputs": [
        {
          "output_type": "stream",
          "text": [
            "[1, 4, 9, 16, 25]\n"
          ],
          "name": "stdout"
        }
      ]
    },
    {
      "cell_type": "code",
      "metadata": {
        "id": "tSiiIydTABWe",
        "colab_type": "code",
        "colab": {
          "base_uri": "https://localhost:8080/",
          "height": 34
        },
        "outputId": "e58ca8fe-b7d5-4f9c-d1f5-190681ed733e"
      },
      "source": [
        "li_1 = [1, 2, 3, 4, 5]\n",
        "li_2 = [6, 7, 8, 9, 10]\n",
        "\n",
        "li = list(map(lambda n_1, n_2 : n_1 + n_2, li_1, li_2))\n",
        "print(li)"
      ],
      "execution_count": 47,
      "outputs": [
        {
          "output_type": "stream",
          "text": [
            "[7, 9, 11, 13, 15]\n"
          ],
          "name": "stdout"
        }
      ]
    },
    {
      "cell_type": "markdown",
      "metadata": {
        "id": "GjjDPmSgGST7",
        "colab_type": "text"
      },
      "source": [
        "### filter()\n",
        "\n",
        "* `filter()` 함수: iterable 한 데이터를 인자로 개별 item을 특정 조건에 해당하는 값으로만 필터링\n",
        "* 람다 함수와 `filter()` 함수를 이용한 리스트 필터링"
      ]
    },
    {
      "cell_type": "code",
      "metadata": {
        "id": "Uplpmb0kGMVt",
        "colab_type": "code",
        "colab": {
          "base_uri": "https://localhost:8080/",
          "height": 52
        },
        "outputId": "dd5033bc-59ed-480e-b39b-3709789ee3fb"
      },
      "source": [
        "li = list(range(10))\n",
        "print(li)\n",
        "evens = filter(lambda n : n % 2 is 0, li)\n",
        "print(list(evens))"
      ],
      "execution_count": 49,
      "outputs": [
        {
          "output_type": "stream",
          "text": [
            "[0, 1, 2, 3, 4, 5, 6, 7, 8, 9]\n",
            "[0, 2, 4, 6, 8]\n"
          ],
          "name": "stdout"
        }
      ]
    },
    {
      "cell_type": "markdown",
      "metadata": {
        "id": "upgP4WxEG347",
        "colab_type": "text"
      },
      "source": [
        "### reduce()\n",
        "\n",
        "* reduce() 함수: iterable 한 데이터를 인자로 받아 개별 item을 축약하여 하나의 값으로 만들어 가는 과정\n",
        "* 람다 함수와 reduce() 함수를 이용한 리스트 계산"
      ]
    },
    {
      "cell_type": "code",
      "metadata": {
        "id": "7-O3VyyYGexM",
        "colab_type": "code",
        "colab": {
          "base_uri": "https://localhost:8080/",
          "height": 87
        },
        "outputId": "360ebb63-c4e0-4f77-deeb-f5428b16dca9"
      },
      "source": [
        "import functools\n",
        "li = list(range(10))\n",
        "print(li)\n",
        "sum = functools.reduce(lambda x, y : x + y, li)\n",
        "print(sum)\n",
        "len = functools.reduce(lambda x, y: x +1, li , 0)\n",
        "print(len)\n",
        "max = functools.reduce(lambda x, y: x if x > y else y ,li)\n",
        "print(max)"
      ],
      "execution_count": 58,
      "outputs": [
        {
          "output_type": "stream",
          "text": [
            "[0, 1, 2, 3, 4, 5, 6, 7, 8, 9]\n",
            "45\n",
            "10\n",
            "9\n"
          ],
          "name": "stdout"
        }
      ]
    },
    {
      "cell_type": "markdown",
      "metadata": {
        "id": "QJg6wYdSHKFh",
        "colab_type": "text"
      },
      "source": [
        "## 제너레이터(generator)와 yield\n",
        "\n",
        "* 함수 안에서 yield를 사용하면 제너레이터\n",
        "* yield: 함수를 끝내지 않고 값을 계속 반환"
      ]
    },
    {
      "cell_type": "code",
      "metadata": {
        "id": "iI142ekSHH5z",
        "colab_type": "code",
        "colab": {
          "base_uri": "https://localhost:8080/",
          "height": 52
        },
        "outputId": "d7c200dc-e18f-4fd5-9720-aae7573238e7"
      },
      "source": [
        "def gen():\n",
        "  yield 1\n",
        "  yield 2\n",
        "  yield 3\n",
        "\n",
        "print(gen())\n",
        "print(list(gen()))"
      ],
      "execution_count": 60,
      "outputs": [
        {
          "output_type": "stream",
          "text": [
            "<generator object gen at 0x7f7fe3604990>\n",
            "[1, 2, 3]\n"
          ],
          "name": "stdout"
        }
      ]
    },
    {
      "cell_type": "code",
      "metadata": {
        "id": "aVpEaM_jHX0_",
        "colab_type": "code",
        "colab": {
          "base_uri": "https://localhost:8080/",
          "height": 70
        },
        "outputId": "124ec98d-30d1-43ef-ed1d-e69a2faf466d"
      },
      "source": [
        "for i in gen():\n",
        "  print(i)"
      ],
      "execution_count": 61,
      "outputs": [
        {
          "output_type": "stream",
          "text": [
            "1\n",
            "2\n",
            "3\n"
          ],
          "name": "stdout"
        }
      ]
    },
    {
      "cell_type": "code",
      "metadata": {
        "id": "phpfTn9gHeUy",
        "colab_type": "code",
        "colab": {
          "base_uri": "https://localhost:8080/",
          "height": 70
        },
        "outputId": "5294f39f-7408-4942-a152-422ab33c453e"
      },
      "source": [
        "g = gen()\n",
        "print(next(g))\n",
        "print(next(g))\n",
        "print(next(g))\n"
      ],
      "execution_count": 62,
      "outputs": [
        {
          "output_type": "stream",
          "text": [
            "1\n",
            "2\n",
            "3\n"
          ],
          "name": "stdout"
        }
      ]
    },
    {
      "cell_type": "markdown",
      "metadata": {
        "id": "vCwxB_lyIv5D",
        "colab_type": "text"
      },
      "source": [
        "### [Lab] 짝수만 생성하는 제너레이터\n",
        "\n",
        "* 0 ~ n개의 숫자 중에서 짝수만 생성하는 제너레이터 함수 생성"
      ]
    },
    {
      "cell_type": "code",
      "metadata": {
        "id": "U3T8U0tpItDl",
        "colab_type": "code",
        "colab": {
          "base_uri": "https://localhost:8080/",
          "height": 105
        },
        "outputId": "5705b6b7-78ef-4670-ade4-c4207258cd65"
      },
      "source": [
        "def gen_even(n):\n",
        "  for i in range(n):\n",
        "    if i % 2 == 0:\n",
        "      yield i\n",
        "\n",
        "for i in gen_even(10):\n",
        "  print(i)"
      ],
      "execution_count": 63,
      "outputs": [
        {
          "output_type": "stream",
          "text": [
            "0\n",
            "2\n",
            "4\n",
            "6\n",
            "8\n"
          ],
          "name": "stdout"
        }
      ]
    }
  ]
}