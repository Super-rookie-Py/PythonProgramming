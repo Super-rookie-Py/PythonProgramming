{
 "cells": [
  {
   "cell_type": "markdown",
   "metadata": {},
   "source": [
    "## 객체와 클래스\n",
    "\n",
    "### keonwoo Park 2020/08/23"
   ]
  },
  {
   "cell_type": "markdown",
   "metadata": {},
   "source": [
    "- 클래스"
   ]
  },
  {
   "cell_type": "code",
   "execution_count": 1,
   "metadata": {},
   "outputs": [],
   "source": [
    "class Book(object):\n",
    "    author = \"\"\n",
    "    title = \"\"\n",
    "    publisher = \"\"\n",
    "    date = \"\""
   ]
  },
  {
   "cell_type": "code",
   "execution_count": 5,
   "metadata": {},
   "outputs": [
    {
     "name": "stdout",
     "output_type": "stream",
     "text": [
      "keonwoo Park\n",
      "Python programming\n"
     ]
    }
   ],
   "source": [
    "book = Book()\n",
    "\n",
    "book.author = \"keonwoo Park\"\n",
    "print(book.author)\n",
    "book.title = \"Python programming\"\n",
    "print(book.title)"
   ]
  },
  {
   "cell_type": "markdown",
   "metadata": {},
   "source": [
    "## Book 클래스 메소드 정의\n",
    "- 메소드"
   ]
  },
  {
   "cell_type": "code",
   "execution_count": 9,
   "metadata": {},
   "outputs": [],
   "source": [
    "class Book(object):\n",
    "    author = \"\"\n",
    "    title = \"\"\n",
    "    publisher = \"\"\n",
    "    date = \"\"\n",
    "    \n",
    "    def print_info(self):\n",
    "        print(\"Author:\", self.author)\n",
    "        print(\"Title:\", self.title)"
   ]
  },
  {
   "cell_type": "code",
   "execution_count": 10,
   "metadata": {},
   "outputs": [
    {
     "name": "stdout",
     "output_type": "stream",
     "text": [
      "Author: keonwoo Park\n",
      "Title: Python Programming\n"
     ]
    }
   ],
   "source": [
    "book = Book()\n",
    "book.author = \"keonwoo Park\"\n",
    "book.title = \"Python Programming\"\n",
    "book.print_info()"
   ]
  },
  {
   "cell_type": "markdown",
   "metadata": {},
   "source": [
    "## 인스턴스 속성\n",
    "- Book 인스턴스 속성"
   ]
  },
  {
   "cell_type": "code",
   "execution_count": 11,
   "metadata": {},
   "outputs": [],
   "source": [
    "class Book(object):\n",
    "    author = \"\"\n",
    "    title = \"\"\n",
    "    publisher = \"\"\n",
    "    date = \"\"\n",
    "    \n",
    "    def print_info(self):\n",
    "        print(\"Author:\", self.author)\n",
    "        print(\"Title:\", self.title)\n",
    "        print(\"Publisher:\", self.publisher)\n",
    "        print(\"Date:\", self.date)"
   ]
  },
  {
   "cell_type": "code",
   "execution_count": 12,
   "metadata": {},
   "outputs": [
    {
     "name": "stdout",
     "output_type": "stream",
     "text": [
      "Author: keonwoo Park\n",
      "Title: Python Programming\n",
      "Publisher: Colab\n",
      "Date: 2020\n"
     ]
    }
   ],
   "source": [
    "b1 = Book()\n",
    "b1.author = \"keonwoo Park\"\n",
    "b1.title = \"Python Programming\"\n",
    "b1.publisher = \"Colab\"\n",
    "b1.date = \"2020\"\n",
    "b1.print_info()"
   ]
  },
  {
   "cell_type": "markdown",
   "metadata": {},
   "source": [
    "## 클래스 속성\n",
    "- 클래스 자체에서 사용"
   ]
  },
  {
   "cell_type": "code",
   "execution_count": 13,
   "metadata": {},
   "outputs": [],
   "source": [
    "class Book(object):\n",
    "    author = \"\"\n",
    "    title = \"\"\n",
    "    publisher = \"\"\n",
    "    date = \"\"\n",
    "    \n",
    "    def print_info(self):\n",
    "        print(\"Author:\", self.author)\n",
    "        print(\"Title:\", self.title)\n",
    "        print(\"Publisher:\", self.publisher)\n",
    "        print(\"Date:\", self.date)"
   ]
  },
  {
   "cell_type": "code",
   "execution_count": 16,
   "metadata": {},
   "outputs": [
    {
     "name": "stdout",
     "output_type": "stream",
     "text": [
      "Author: keonwoo Park\n",
      "Title: Python Programming\n",
      "Publisher: Colab\n",
      "Date: 2020\n"
     ]
    }
   ],
   "source": [
    "b1 = Book()\n",
    "Book.author = \"keonwoo Park\"\n",
    "Book.title = \"Python Programming\"\n",
    "Book.publisher = \"Colab\"\n",
    "Book.date = \"2020\"\n",
    "b1.print_info()"
   ]
  },
  {
   "cell_type": "markdown",
   "metadata": {},
   "source": [
    "- 인스턴스 속성:\n",
    "    - 저자: Author\n",
    "    - 제목: Title\n",
    "    - 출판사: Publisher\n",
    "    - 발행일: date\n",
    "- 클래스 속성\n",
    "    - 수량: count"
   ]
  },
  {
   "cell_type": "code",
   "execution_count": 23,
   "metadata": {},
   "outputs": [],
   "source": [
    "class Book(object):\n",
    "    author = \"\"\n",
    "    title = \"\"\n",
    "    publisher = \"\"\n",
    "    date = \"\"\n",
    "    count = 0\n",
    "    \n",
    "    def print_info(self):\n",
    "        print(\"Author:\", self.author)\n",
    "        print(\"Title:\", self.title)\n",
    "        print(\"Publisher:\", self.publisher)\n",
    "        print(\"Date:\", self.date)"
   ]
  },
  {
   "cell_type": "code",
   "execution_count": 24,
   "metadata": {},
   "outputs": [
    {
     "name": "stdout",
     "output_type": "stream",
     "text": [
      "Author: keonwoo Park\n",
      "Title: Python Programming\n",
      "Publisher: Colab\n",
      "Date: 2020\n",
      "Number of Books: 1\n"
     ]
    }
   ],
   "source": [
    "b1 = Book()\n",
    "Book.count += 1\n",
    "\n",
    "b1.author = \"keonwoo Park\"\n",
    "b1.title = \"Python Programming\"\n",
    "b1.publisher = \"Colab\"\n",
    "b1.date = \"2020\"\n",
    "b1.print_info()\n",
    "print(\"Number of Books:\", str(Book.count))"
   ]
  },
  {
   "cell_type": "markdown",
   "metadata": {},
   "source": [
    "## 클래스 매직 메소드\n",
    "- \"_\" 2개 붙여서 매직 메소드 또는 속성으로 사용"
   ]
  },
  {
   "cell_type": "markdown",
   "metadata": {},
   "source": [
    "## \"__init__()\": 클래스의 속성들을 초기화"
   ]
  },
  {
   "cell_type": "code",
   "execution_count": 27,
   "metadata": {},
   "outputs": [],
   "source": [
    "class Book(object):\n",
    "    count = 0\n",
    "    \n",
    "    def __init__(self, author, title, publisher, date):\n",
    "        self.author = author\n",
    "        self.title = title\n",
    "        self.publisher = publisher\n",
    "        self.date = date\n",
    "        Book.count += 1\n",
    "        \n",
    "    def print_info(self):\n",
    "        print(\"Author:\", self.author)\n",
    "        print(\"Title:\", self.title)\n",
    "        print(\"Publisher:\", self.publisher)\n",
    "        print(\"Date:\", self.date)\n",
    "    "
   ]
  },
  {
   "cell_type": "code",
   "execution_count": 29,
   "metadata": {},
   "outputs": [
    {
     "name": "stdout",
     "output_type": "stream",
     "text": [
      "Author: Suan\n",
      "Title: Python Programming\n",
      "Publisher: Colab\n",
      "Date: 2020\n"
     ]
    }
   ],
   "source": [
    "book = Book(\"Suan\", \"Python Programming\", \"Colab\", \"2020\")\n",
    "book.print_info()"
   ]
  },
  {
   "cell_type": "code",
   "execution_count": 31,
   "metadata": {},
   "outputs": [
    {
     "name": "stdout",
     "output_type": "stream",
     "text": [
      "Number of Books: 2\n"
     ]
    }
   ],
   "source": [
    "print(\"Number of Books:\", str(Book.count))"
   ]
  },
  {
   "cell_type": "markdown",
   "metadata": {},
   "source": [
    "## __str__()\n",
    "- 메소드를 이용하여 인스턴스 출력"
   ]
  },
  {
   "cell_type": "code",
   "execution_count": 32,
   "metadata": {},
   "outputs": [],
   "source": [
    "class Book(object):\n",
    "    count = 0\n",
    "    \n",
    "    def __init__(self, author, title, publisher, date):\n",
    "        self.author = author\n",
    "        self.title = title\n",
    "        self.publisher = publisher\n",
    "        self.date = date\n",
    "        Book.count += 1\n",
    "        \n",
    "    def __str__(self):\n",
    "        return (\"Author:\" + self.author + \\\n",
    "                \"\\nTitle:\" + self.title + \\\n",
    "                \"\\nPublisher:\" + self.publisher + \\\n",
    "                \"\\nDate:\" + self.date )\n"
   ]
  },
  {
   "cell_type": "code",
   "execution_count": 33,
   "metadata": {},
   "outputs": [
    {
     "name": "stdout",
     "output_type": "stream",
     "text": [
      "Author:Suan\n",
      "Title:Python Programming\n",
      "Publisher:Colab\n",
      "Date:2020\n",
      "Number of Books: 1\n"
     ]
    }
   ],
   "source": [
    "book = Book(\"Suan\", \"Python Programming\", \"Colab\", \"2020\")\n",
    "print(book)\n",
    "print(\"Number of Books:\", str(Book.count))"
   ]
  },
  {
   "cell_type": "markdown",
   "metadata": {},
   "source": [
    "## 매직 메소드 예제\n",
    "- Line 클래스"
   ]
  },
  {
   "cell_type": "code",
   "execution_count": 34,
   "metadata": {},
   "outputs": [],
   "source": [
    "class Line(object):\n",
    "    length = 0\n",
    "    \n",
    "    def __init__(self, length):\n",
    "        self.length = length\n",
    "        print(self.length, \"길이의 선 생성\")\n",
    "        \n",
    "    def __del__(self):\n",
    "        print(self.length, \"길이의 선 제거\")\n",
    "        \n",
    "    def __repr__(self):\n",
    "        return str(self.length)\n",
    "    \n",
    "    def __add__(self, other):\n",
    "        return self.length + other.length\n",
    "    \n",
    "    def __lt__(self, other):\n",
    "        return self.length < other.length\n",
    "    \n",
    "    def __le__(self, other):\n",
    "        return self.length <= other.length\n",
    "    \n",
    "    def __gt__(self, other):\n",
    "        return self.length > other.length\n",
    "    \n",
    "    def __ge__(self, other):\n",
    "        return self.length >= other.length\n",
    "    \n",
    "    def __eq__(self, other):\n",
    "        return self.length == other.length\n",
    "    \n",
    "    def __ne__(self, other):\n",
    "        return self.length != other.length"
   ]
  },
  {
   "cell_type": "code",
   "execution_count": 43,
   "metadata": {},
   "outputs": [
    {
     "name": "stdout",
     "output_type": "stream",
     "text": [
      "20 길이의 선 생성\n",
      "20\n",
      "20 길이의 선 생성\n",
      "20 길이의 선 제거\n",
      "20\n",
      "선의 합: 40\n",
      "20 <= 20\n",
      "20 길이의 선 제거\n",
      "20 길이의 선 제거\n"
     ]
    }
   ],
   "source": [
    "l1 = Line(20)\n",
    "print(l1)\n",
    "\n",
    "l2 = Line(20)\n",
    "print(l2)\n",
    "\n",
    "print(\"선의 합:\", l1 + l2)\n",
    "\n",
    "if l1 < l2:\n",
    "    print(l1, \"<\", l2)\n",
    "elif l1 <= l2:\n",
    "    print(l1, \"<=\", l2)\n",
    "elif l1 > l2:\n",
    "    print(l1, \">\", l2)\n",
    "elif l1 >= l2:\n",
    "    print(l1, \">=\", l2)\n",
    "elif l1 == l2:\n",
    "    print(l1, \"==\", l2)\n",
    "elif l1 != l2:\n",
    "    print(l1, \"==\", l2)\n",
    "else:\n",
    "    pass\n",
    "    \n",
    "del(l1)\n",
    "del(l2)"
   ]
  },
  {
   "cell_type": "markdown",
   "metadata": {},
   "source": [
    "## 가시성 예제\n",
    "- __items 속성은 외부에 정보를 보이지 않게 함"
   ]
  },
  {
   "cell_type": "code",
   "execution_count": 50,
   "metadata": {},
   "outputs": [],
   "source": [
    "class Box(object):\n",
    "    def __init__(self, name):\n",
    "        self.name = name\n",
    "        self.__items = []\n",
    "        \n",
    "    def add_item(self, item):\n",
    "        self.__items.append(item)\n",
    "        print(\"아이템 추가\")\n",
    "        \n",
    "    def get_number_of_items(self):\n",
    "        return len(self.__items)"
   ]
  },
  {
   "cell_type": "code",
   "execution_count": 53,
   "metadata": {},
   "outputs": [
    {
     "name": "stdout",
     "output_type": "stream",
     "text": [
      "아이템 추가\n",
      "아이템 추가\n",
      "Box\n",
      "2\n"
     ]
    }
   ],
   "source": [
    "box = Box(\"Box\")\n",
    "box.add_item(\"Item1\")\n",
    "box.add_item(\"Item2\")\n",
    "\n",
    "print(box.name)\n",
    "print(box.get_number_of_items())\n",
    "#print(box.__items) 접근불가"
   ]
  },
  {
   "cell_type": "markdown",
   "metadata": {},
   "source": [
    "## 클래스 상속"
   ]
  },
  {
   "cell_type": "code",
   "execution_count": 54,
   "metadata": {},
   "outputs": [],
   "source": [
    "class SuperClass(object):\n",
    "    pass\n",
    "\n",
    "class SubClass(SuperClass):\n",
    "    pass"
   ]
  },
  {
   "cell_type": "markdown",
   "metadata": {},
   "source": [
    "## 메소드 오버라이딩"
   ]
  },
  {
   "cell_type": "code",
   "execution_count": 55,
   "metadata": {},
   "outputs": [],
   "source": [
    "class SuperClass(object):\n",
    "    def method(self):\n",
    "        pass\n",
    "\n",
    "class SubClass1(SuperClass):\n",
    "    def method(self):\n",
    "        print(\"Method Overrideing\")\n",
    "\n",
    "class SubClass2(SuperClass):\n",
    "    pass"
   ]
  },
  {
   "cell_type": "code",
   "execution_count": 57,
   "metadata": {},
   "outputs": [
    {
     "name": "stdout",
     "output_type": "stream",
     "text": [
      "Method Overrideing\n"
     ]
    }
   ],
   "source": [
    "sub1 = SubClass1()\n",
    "sub2 = SubClass2()\n",
    "\n",
    "sub1.method()\n",
    "sub2.method()"
   ]
  },
  {
   "cell_type": "markdown",
   "metadata": {},
   "source": [
    "## 클래스 상속, 메소드 오버라이딩"
   ]
  },
  {
   "cell_type": "code",
   "execution_count": 60,
   "metadata": {},
   "outputs": [],
   "source": [
    "class Vehicle(object):\n",
    "    speed = 0\n",
    "    def up_speed(self, value):\n",
    "        self.speed += value\n",
    "        \n",
    "    def down_speed(self, value):\n",
    "        self.speed -= value\n",
    "        \n",
    "    def print_speed(self):\n",
    "        print(\"Speed:\", str(self.speed))\n",
    "        \n",
    "class Car(Vehicle):\n",
    "    def up_speed(self, value):\n",
    "        self.speed += value\n",
    "        if self.speed > 240: self.speed = 240\n",
    "            \n",
    "class Truck(Vehicle):\n",
    "    def up_speed(self, value):\n",
    "        self.speed += value\n",
    "        if self.speed > 180: self.speed = 180\n",
    "\n"
   ]
  },
  {
   "cell_type": "code",
   "execution_count": 62,
   "metadata": {},
   "outputs": [
    {
     "name": "stdout",
     "output_type": "stream",
     "text": [
      "Speed: 240\n",
      "Speed: 180\n"
     ]
    }
   ],
   "source": [
    "car = Car()\n",
    "car.up_speed(300)\n",
    "car.print_speed()\n",
    "\n",
    "truck = Truck()\n",
    "truck.up_speed(200)\n",
    "truck.print_speed()"
   ]
  }
 ],
 "metadata": {
  "kernelspec": {
   "display_name": "Python 3",
   "language": "python",
   "name": "python3"
  },
  "language_info": {
   "codemirror_mode": {
    "name": "ipython",
    "version": 3
   },
   "file_extension": ".py",
   "mimetype": "text/x-python",
   "name": "python",
   "nbconvert_exporter": "python",
   "pygments_lexer": "ipython3",
   "version": "3.6.2"
  }
 },
 "nbformat": 4,
 "nbformat_minor": 4
}
